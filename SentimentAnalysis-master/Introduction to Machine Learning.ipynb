{
 "cells": [
  {
   "cell_type": "markdown",
   "metadata": {},
   "source": [
    "# Introduction to Machine Learning\n",
    "\n",
    "This notebook is part of the AIS Introduction to Machine Learning workshop and is designed to serve as a follow-up to Dr. Gordon Arnold's Intro to Machine Learning talk. Those who attended this workshop or want to know more about machine learning can use this notebook to get hands on experience with training algorithms on data. \n"
   ]
  },
  {
   "cell_type": "markdown",
   "metadata": {},
   "source": [
    "## What is machine learning?\n",
    "\n",
    "Machine learning is the discipline concerned with using statistical and mathematical techniques to give machines the ability to learn without being explicitly programmed. For example, rather than trying to come up with a deterministic algorithm to determine if a movie review is positive or negative, we can use machine learning to \"train\" a machine to predict given a string representing the text of a review, whether the review is positive or negative. Machine learning is a little different from traditional problems in computer science because it is not about finding deterministic solutions, but about coming up with approximate solutions. We use machine learning to make predictions from data and to solve problems for which there is no straightforward deterministic solution.\n"
   ]
  },
  {
   "cell_type": "markdown",
   "metadata": {},
   "source": [
    "## Types of Machine Learning"
   ]
  },
  {
   "cell_type": "markdown",
   "metadata": {},
   "source": [
    "- Supervised learning: "
   ]
  }
 ],
 "metadata": {
  "kernelspec": {
   "display_name": "Python [conda root]",
   "language": "python",
   "name": "conda-root-py"
  },
  "language_info": {
   "codemirror_mode": {
    "name": "ipython",
    "version": 3
   },
   "file_extension": ".py",
   "mimetype": "text/x-python",
   "name": "python",
   "nbconvert_exporter": "python",
   "pygments_lexer": "ipython3",
   "version": "3.5.2"
  }
 },
 "nbformat": 4,
 "nbformat_minor": 2
}
