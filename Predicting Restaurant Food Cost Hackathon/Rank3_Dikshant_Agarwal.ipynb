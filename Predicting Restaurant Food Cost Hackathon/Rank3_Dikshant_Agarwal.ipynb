{
 "cells": [
  {
   "cell_type": "code",
   "execution_count": 3,
   "metadata": {},
   "outputs": [],
   "source": [
    "import pandas as pd\n",
    "import numpy as np\n",
    "import math\n",
    "import datetime\n",
    "import warnings\n",
    "import matplotlib.pyplot as plt\n",
    "from sklearn.model_selection import GridSearchCV"
   ]
  },
  {
   "cell_type": "code",
   "execution_count": 4,
   "metadata": {},
   "outputs": [],
   "source": [
    "warnings.filterwarnings(\"ignore\")\n",
    "from matplotlib.pylab import rcParams\n",
    "rcParams['figure.figsize'] = (15, 5)\n",
    "pd.set_option('display.max_rows', 500)\n",
    "pd.set_option('display.max_columns', 500)\n",
    "pd.set_option('display.width', 1000)"
   ]
  },
  {
   "cell_type": "markdown",
   "metadata": {},
   "source": [
    "# Reading Data"
   ]
  },
  {
   "cell_type": "code",
   "execution_count": 5,
   "metadata": {
    "scrolled": false
   },
   "outputs": [
    {
     "data": {
      "text/plain": [
       "(12690, 9)"
      ]
     },
     "execution_count": 5,
     "metadata": {},
     "output_type": "execute_result"
    }
   ],
   "source": [
    "df_train = pd.read_excel('Data_Train.xlsx')\n",
    "ntrain = df_train.shape[0]\n",
    "df_train.shape"
   ]
  },
  {
   "cell_type": "code",
   "execution_count": 6,
   "metadata": {},
   "outputs": [
    {
     "data": {
      "text/html": [
       "<div>\n",
       "<style scoped>\n",
       "    .dataframe tbody tr th:only-of-type {\n",
       "        vertical-align: middle;\n",
       "    }\n",
       "\n",
       "    .dataframe tbody tr th {\n",
       "        vertical-align: top;\n",
       "    }\n",
       "\n",
       "    .dataframe thead th {\n",
       "        text-align: right;\n",
       "    }\n",
       "</style>\n",
       "<table border=\"1\" class=\"dataframe\">\n",
       "  <thead>\n",
       "    <tr style=\"text-align: right;\">\n",
       "      <th></th>\n",
       "      <th>TITLE</th>\n",
       "      <th>RESTAURANT_ID</th>\n",
       "      <th>CUISINES</th>\n",
       "      <th>TIME</th>\n",
       "      <th>CITY</th>\n",
       "      <th>LOCALITY</th>\n",
       "      <th>RATING</th>\n",
       "      <th>VOTES</th>\n",
       "      <th>COST</th>\n",
       "    </tr>\n",
       "  </thead>\n",
       "  <tbody>\n",
       "    <tr>\n",
       "      <th>0</th>\n",
       "      <td>CASUAL DINING</td>\n",
       "      <td>9438</td>\n",
       "      <td>Malwani, Goan, North Indian</td>\n",
       "      <td>11am – 4pm, 7:30pm – 11:30pm (Mon-Sun)</td>\n",
       "      <td>Thane</td>\n",
       "      <td>Dombivali East</td>\n",
       "      <td>3.6</td>\n",
       "      <td>49 votes</td>\n",
       "      <td>1200</td>\n",
       "    </tr>\n",
       "    <tr>\n",
       "      <th>1</th>\n",
       "      <td>CASUAL DINING,BAR</td>\n",
       "      <td>13198</td>\n",
       "      <td>Asian, Modern Indian, Japanese</td>\n",
       "      <td>6pm – 11pm (Mon-Sun)</td>\n",
       "      <td>Chennai</td>\n",
       "      <td>Ramapuram</td>\n",
       "      <td>4.2</td>\n",
       "      <td>30 votes</td>\n",
       "      <td>1500</td>\n",
       "    </tr>\n",
       "    <tr>\n",
       "      <th>2</th>\n",
       "      <td>CASUAL DINING</td>\n",
       "      <td>10915</td>\n",
       "      <td>North Indian, Chinese, Biryani, Hyderabadi</td>\n",
       "      <td>11am – 3:30pm, 7pm – 11pm (Mon-Sun)</td>\n",
       "      <td>Chennai</td>\n",
       "      <td>Saligramam</td>\n",
       "      <td>3.8</td>\n",
       "      <td>221 votes</td>\n",
       "      <td>800</td>\n",
       "    </tr>\n",
       "    <tr>\n",
       "      <th>3</th>\n",
       "      <td>QUICK BITES</td>\n",
       "      <td>6346</td>\n",
       "      <td>Tibetan, Chinese</td>\n",
       "      <td>11:30am – 1am (Mon-Sun)</td>\n",
       "      <td>Mumbai</td>\n",
       "      <td>Bandra West</td>\n",
       "      <td>4.1</td>\n",
       "      <td>24 votes</td>\n",
       "      <td>800</td>\n",
       "    </tr>\n",
       "    <tr>\n",
       "      <th>4</th>\n",
       "      <td>DESSERT PARLOR</td>\n",
       "      <td>15387</td>\n",
       "      <td>Desserts</td>\n",
       "      <td>11am – 1am (Mon-Sun)</td>\n",
       "      <td>Mumbai</td>\n",
       "      <td>Lower Parel</td>\n",
       "      <td>3.8</td>\n",
       "      <td>165 votes</td>\n",
       "      <td>300</td>\n",
       "    </tr>\n",
       "  </tbody>\n",
       "</table>\n",
       "</div>"
      ],
      "text/plain": [
       "               TITLE  RESTAURANT_ID                                    CUISINES                                    TIME     CITY        LOCALITY RATING      VOTES  COST\n",
       "0      CASUAL DINING           9438                 Malwani, Goan, North Indian  11am – 4pm, 7:30pm – 11:30pm (Mon-Sun)    Thane  Dombivali East    3.6   49 votes  1200\n",
       "1  CASUAL DINING,BAR          13198              Asian, Modern Indian, Japanese                    6pm – 11pm (Mon-Sun)  Chennai       Ramapuram    4.2   30 votes  1500\n",
       "2      CASUAL DINING          10915  North Indian, Chinese, Biryani, Hyderabadi     11am – 3:30pm, 7pm – 11pm (Mon-Sun)  Chennai      Saligramam    3.8  221 votes   800\n",
       "3        QUICK BITES           6346                            Tibetan, Chinese                 11:30am – 1am (Mon-Sun)   Mumbai     Bandra West    4.1   24 votes   800\n",
       "4     DESSERT PARLOR          15387                                    Desserts                    11am – 1am (Mon-Sun)   Mumbai     Lower Parel    3.8  165 votes   300"
      ]
     },
     "execution_count": 6,
     "metadata": {},
     "output_type": "execute_result"
    }
   ],
   "source": [
    "df_train.head()"
   ]
  },
  {
   "cell_type": "code",
   "execution_count": 199,
   "metadata": {},
   "outputs": [
    {
     "data": {
      "text/plain": [
       "(4231, 8)"
      ]
     },
     "execution_count": 199,
     "metadata": {},
     "output_type": "execute_result"
    }
   ],
   "source": [
    "df_val = pd.read_excel('Data_Test.xlsx')\n",
    "df_val.shape"
   ]
  },
  {
   "cell_type": "code",
   "execution_count": 200,
   "metadata": {},
   "outputs": [
    {
     "data": {
      "text/html": [
       "<div>\n",
       "<style scoped>\n",
       "    .dataframe tbody tr th:only-of-type {\n",
       "        vertical-align: middle;\n",
       "    }\n",
       "\n",
       "    .dataframe tbody tr th {\n",
       "        vertical-align: top;\n",
       "    }\n",
       "\n",
       "    .dataframe thead th {\n",
       "        text-align: right;\n",
       "    }\n",
       "</style>\n",
       "<table border=\"1\" class=\"dataframe\">\n",
       "  <thead>\n",
       "    <tr style=\"text-align: right;\">\n",
       "      <th></th>\n",
       "      <th>TITLE</th>\n",
       "      <th>RESTAURANT_ID</th>\n",
       "      <th>CUISINES</th>\n",
       "      <th>TIME</th>\n",
       "      <th>CITY</th>\n",
       "      <th>LOCALITY</th>\n",
       "      <th>RATING</th>\n",
       "      <th>VOTES</th>\n",
       "    </tr>\n",
       "  </thead>\n",
       "  <tbody>\n",
       "    <tr>\n",
       "      <th>0</th>\n",
       "      <td>CASUAL DINING</td>\n",
       "      <td>4085</td>\n",
       "      <td>North Indian, Chinese, Mughlai, Kebab</td>\n",
       "      <td>12noon – 12midnight (Mon-Sun)</td>\n",
       "      <td>Noida</td>\n",
       "      <td>Sector 18</td>\n",
       "      <td>4.3</td>\n",
       "      <td>564 votes</td>\n",
       "    </tr>\n",
       "    <tr>\n",
       "      <th>1</th>\n",
       "      <td>QUICK BITES</td>\n",
       "      <td>12680</td>\n",
       "      <td>South Indian, Fast Food, Pizza, North Indian</td>\n",
       "      <td>7am – 12:30AM (Mon-Sun)</td>\n",
       "      <td>Mumbai</td>\n",
       "      <td>Grant Road</td>\n",
       "      <td>4.2</td>\n",
       "      <td>61 votes</td>\n",
       "    </tr>\n",
       "    <tr>\n",
       "      <th>2</th>\n",
       "      <td>CASUAL DINING</td>\n",
       "      <td>1411</td>\n",
       "      <td>North Indian, Seafood, Biryani, Chinese</td>\n",
       "      <td>11am – 11:30pm (Mon-Sun)</td>\n",
       "      <td>Mumbai</td>\n",
       "      <td>Marine Lines</td>\n",
       "      <td>3.8</td>\n",
       "      <td>350 votes</td>\n",
       "    </tr>\n",
       "    <tr>\n",
       "      <th>3</th>\n",
       "      <td>None</td>\n",
       "      <td>204</td>\n",
       "      <td>Biryani</td>\n",
       "      <td>9am – 10pm (Mon, Wed, Thu, Fri, Sat, Sun), 10:...</td>\n",
       "      <td>Faridabad</td>\n",
       "      <td>NIT</td>\n",
       "      <td>3.8</td>\n",
       "      <td>1445 votes</td>\n",
       "    </tr>\n",
       "    <tr>\n",
       "      <th>4</th>\n",
       "      <td>QUICK BITES</td>\n",
       "      <td>13453</td>\n",
       "      <td>South Indian, Kerala</td>\n",
       "      <td>11am – 10pm (Mon-Sun)</td>\n",
       "      <td>Kochi</td>\n",
       "      <td>Kaloor</td>\n",
       "      <td>3.6</td>\n",
       "      <td>23 votes</td>\n",
       "    </tr>\n",
       "  </tbody>\n",
       "</table>\n",
       "</div>"
      ],
      "text/plain": [
       "           TITLE  RESTAURANT_ID                                      CUISINES                                               TIME       CITY      LOCALITY RATING       VOTES\n",
       "0  CASUAL DINING           4085         North Indian, Chinese, Mughlai, Kebab                      12noon – 12midnight (Mon-Sun)      Noida     Sector 18    4.3   564 votes\n",
       "1    QUICK BITES          12680  South Indian, Fast Food, Pizza, North Indian                            7am – 12:30AM (Mon-Sun)     Mumbai    Grant Road    4.2    61 votes\n",
       "2  CASUAL DINING           1411       North Indian, Seafood, Biryani, Chinese                           11am – 11:30pm (Mon-Sun)     Mumbai  Marine Lines    3.8   350 votes\n",
       "3           None            204                                       Biryani  9am – 10pm (Mon, Wed, Thu, Fri, Sat, Sun), 10:...  Faridabad           NIT    3.8  1445 votes\n",
       "4    QUICK BITES          13453                          South Indian, Kerala                              11am – 10pm (Mon-Sun)      Kochi        Kaloor    3.6    23 votes"
      ]
     },
     "execution_count": 200,
     "metadata": {},
     "output_type": "execute_result"
    }
   ],
   "source": [
    "df_val.head()"
   ]
  },
  {
   "cell_type": "markdown",
   "metadata": {},
   "source": [
    "# Exploratory Data Analysis\n",
    "- I started with exploring value_counts() for each feature and checking how the costs are distributed across different values of each of these features. Later, I experimented with clubbing similar values together and checking how it affected performance of my ensemble tree-based algorithms. \n",
    "- I tried experimenting with TIME column and extracting important features such as opening time, closing time, closing days, etc. I probably underexplored this information (I'll really appreciate if you can suggest how I could have achieved the same results in a more efficient way or any other time-related features that I missed). \n",
    "- For values in CITY column which also contained locality, I copied such values to LOCALITY to and cleaned them to keep only relevant ones. "
   ]
  },
  {
   "cell_type": "code",
   "execution_count": 201,
   "metadata": {},
   "outputs": [
    {
     "data": {
      "text/plain": [
       "(16921, 8)"
      ]
     },
     "execution_count": 201,
     "metadata": {},
     "output_type": "execute_result"
    }
   ],
   "source": [
    "y = df_train['COST'].values\n",
    "df = pd.concat([df_train.drop(columns=['COST']), df_val])\n",
    "df.shape"
   ]
  },
  {
   "cell_type": "code",
   "execution_count": 202,
   "metadata": {},
   "outputs": [
    {
     "data": {
      "text/html": [
       "<div>\n",
       "<style scoped>\n",
       "    .dataframe tbody tr th:only-of-type {\n",
       "        vertical-align: middle;\n",
       "    }\n",
       "\n",
       "    .dataframe tbody tr th {\n",
       "        vertical-align: top;\n",
       "    }\n",
       "\n",
       "    .dataframe thead th {\n",
       "        text-align: right;\n",
       "    }\n",
       "</style>\n",
       "<table border=\"1\" class=\"dataframe\">\n",
       "  <thead>\n",
       "    <tr style=\"text-align: right;\">\n",
       "      <th></th>\n",
       "      <th>TITLE</th>\n",
       "      <th>RESTAURANT_ID</th>\n",
       "      <th>CUISINES</th>\n",
       "      <th>TIME</th>\n",
       "      <th>CITY</th>\n",
       "      <th>LOCALITY</th>\n",
       "      <th>RATING</th>\n",
       "      <th>VOTES</th>\n",
       "    </tr>\n",
       "  </thead>\n",
       "  <tbody>\n",
       "    <tr>\n",
       "      <th>0</th>\n",
       "      <td>CASUAL DINING</td>\n",
       "      <td>9438</td>\n",
       "      <td>Malwani, Goan, North Indian</td>\n",
       "      <td>11am – 4pm, 7:30pm – 11:30pm (Mon-Sun)</td>\n",
       "      <td>Thane</td>\n",
       "      <td>Dombivali East</td>\n",
       "      <td>3.6</td>\n",
       "      <td>49 votes</td>\n",
       "    </tr>\n",
       "    <tr>\n",
       "      <th>1</th>\n",
       "      <td>CASUAL DINING,BAR</td>\n",
       "      <td>13198</td>\n",
       "      <td>Asian, Modern Indian, Japanese</td>\n",
       "      <td>6pm – 11pm (Mon-Sun)</td>\n",
       "      <td>Chennai</td>\n",
       "      <td>Ramapuram</td>\n",
       "      <td>4.2</td>\n",
       "      <td>30 votes</td>\n",
       "    </tr>\n",
       "    <tr>\n",
       "      <th>2</th>\n",
       "      <td>CASUAL DINING</td>\n",
       "      <td>10915</td>\n",
       "      <td>North Indian, Chinese, Biryani, Hyderabadi</td>\n",
       "      <td>11am – 3:30pm, 7pm – 11pm (Mon-Sun)</td>\n",
       "      <td>Chennai</td>\n",
       "      <td>Saligramam</td>\n",
       "      <td>3.8</td>\n",
       "      <td>221 votes</td>\n",
       "    </tr>\n",
       "    <tr>\n",
       "      <th>3</th>\n",
       "      <td>QUICK BITES</td>\n",
       "      <td>6346</td>\n",
       "      <td>Tibetan, Chinese</td>\n",
       "      <td>11:30am – 1am (Mon-Sun)</td>\n",
       "      <td>Mumbai</td>\n",
       "      <td>Bandra West</td>\n",
       "      <td>4.1</td>\n",
       "      <td>24 votes</td>\n",
       "    </tr>\n",
       "    <tr>\n",
       "      <th>4</th>\n",
       "      <td>DESSERT PARLOR</td>\n",
       "      <td>15387</td>\n",
       "      <td>Desserts</td>\n",
       "      <td>11am – 1am (Mon-Sun)</td>\n",
       "      <td>Mumbai</td>\n",
       "      <td>Lower Parel</td>\n",
       "      <td>3.8</td>\n",
       "      <td>165 votes</td>\n",
       "    </tr>\n",
       "  </tbody>\n",
       "</table>\n",
       "</div>"
      ],
      "text/plain": [
       "               TITLE  RESTAURANT_ID                                    CUISINES                                    TIME     CITY        LOCALITY RATING      VOTES\n",
       "0      CASUAL DINING           9438                 Malwani, Goan, North Indian  11am – 4pm, 7:30pm – 11:30pm (Mon-Sun)    Thane  Dombivali East    3.6   49 votes\n",
       "1  CASUAL DINING,BAR          13198              Asian, Modern Indian, Japanese                    6pm – 11pm (Mon-Sun)  Chennai       Ramapuram    4.2   30 votes\n",
       "2      CASUAL DINING          10915  North Indian, Chinese, Biryani, Hyderabadi     11am – 3:30pm, 7pm – 11pm (Mon-Sun)  Chennai      Saligramam    3.8  221 votes\n",
       "3        QUICK BITES           6346                            Tibetan, Chinese                 11:30am – 1am (Mon-Sun)   Mumbai     Bandra West    4.1   24 votes\n",
       "4     DESSERT PARLOR          15387                                    Desserts                    11am – 1am (Mon-Sun)   Mumbai     Lower Parel    3.8  165 votes"
      ]
     },
     "execution_count": 202,
     "metadata": {},
     "output_type": "execute_result"
    }
   ],
   "source": [
    "df.head()"
   ]
  },
  {
   "cell_type": "code",
   "execution_count": 203,
   "metadata": {},
   "outputs": [
    {
     "data": {
      "text/plain": [
       "(array([1.464e+04, 0.000e+00, 6.880e+02, 0.000e+00, 1.550e+02, 0.000e+00,\n",
       "        4.700e+01, 0.000e+00, 0.000e+00, 2.100e+01, 0.000e+00, 1.600e+01,\n",
       "        0.000e+00, 5.000e+00, 0.000e+00, 2.000e+00]),\n",
       " array([1.    , 1.4375, 1.875 , 2.3125, 2.75  , 3.1875, 3.625 , 4.0625,\n",
       "        4.5   , 4.9375, 5.375 , 5.8125, 6.25  , 6.6875, 7.125 , 7.5625,\n",
       "        8.    ]),\n",
       " <a list of 16 Patch objects>)"
      ]
     },
     "execution_count": 203,
     "metadata": {},
     "output_type": "execute_result"
    },
    {
     "data": {
      "image/png": "[encoded data removed]",
      "text/plain": [
       "<Figure size 1080x360 with 1 Axes>"
      ]
     },
     "metadata": {
      "needs_background": "light"
     },
     "output_type": "display_data"
    }
   ],
   "source": [
    "plt.hist(df.RESTAURANT_ID.value_counts(), bins=16)"
   ]
  },
  {
   "cell_type": "code",
   "execution_count": 204,
   "metadata": {},
   "outputs": [],
   "source": [
    "#checking restaurants which have multiple RESTAURANT_ID\n",
    "res_grouby = df.groupby(['RESTAURANT_ID'])['TIME'].size()\n",
    "res_list = res_grouby[res_grouby>3].sort_values(ascending=False).index.tolist()\n",
    "for res in res_list:\n",
    "    df[res] = 0\n",
    "    df.loc[df['RESTAURANT_ID']==res, res] = 1"
   ]
  },
  {
   "cell_type": "code",
   "execution_count": 205,
   "metadata": {},
   "outputs": [],
   "source": [
    "title_list = df['TITLE'].str.split(',')"
   ]
  },
  {
   "cell_type": "code",
   "execution_count": 206,
   "metadata": {},
   "outputs": [
    {
     "data": {
      "text/plain": [
       "Counter({'CASUAL DINING': 5865,\n",
       "         'BAR': 900,\n",
       "         'QUICK BITES': 6144,\n",
       "         'DESSERT PARLOR': 795,\n",
       "         'CAFÉ': 1140,\n",
       "         'MICROBREWERY': 98,\n",
       "         'BEVERAGE SHOP': 331,\n",
       "         'IRANI CAFE': 5,\n",
       "         'BAKERY': 707,\n",
       "         'None': 1287,\n",
       "         'PUB': 189,\n",
       "         'FINE DINING': 468,\n",
       "         'SWEET SHOP': 218,\n",
       "         'LOUNGE': 263,\n",
       "         'FOOD COURT': 144,\n",
       "         'FOOD TRUCK': 39,\n",
       "         'MESS': 68,\n",
       "         'KIOSK': 80,\n",
       "         'CLUB': 39,\n",
       "         'CONFECTIONERY': 6,\n",
       "         'DHABA': 61,\n",
       "         'MEAT SHOP': 4,\n",
       "         'COCKTAIL BAR': 7,\n",
       "         'PAAN SHOP': 6,\n",
       "         'BHOJANALYA': 1})"
      ]
     },
     "execution_count": 206,
     "metadata": {},
     "output_type": "execute_result"
    }
   ],
   "source": [
    "from collections import Counter\n",
    "title_counter = Counter(([a for b in title_list.tolist() for a in b]))\n",
    "title_counter"
   ]
  },
  {
   "cell_type": "code",
   "execution_count": 207,
   "metadata": {},
   "outputs": [
    {
     "name": "stdout",
     "output_type": "stream",
     "text": [
      "BAKERY :  366.4454887218045\n",
      "SWEET SHOP :  288.7096774193548\n",
      "FOOD COURT :  423.8888888888889\n",
      "MICROBREWERY :  1672.5352112676057\n",
      "PUB :  1508.695652173913\n",
      "MESS :  255.28301886792454\n",
      "BHOJANALYA :  nan\n",
      "FINE DINING :  2908.7988826815645\n",
      "KIOSK :  225.83333333333334\n",
      "COCKTAIL BAR :  2550.0\n",
      "None :  415.55333998005983\n",
      "CASUAL DINING :  865.0671386161224\n",
      "QUICK BITES :  348.1128751631144\n",
      "MEAT SHOP :  483.3333333333333\n",
      "DHABA :  387.1111111111111\n",
      "FOOD TRUCK :  273.5483870967742\n",
      "PAAN SHOP :  120.0\n",
      "CONFECTIONERY :  360.0\n",
      "BAR :  1494.2572674418604\n",
      "LOUNGE :  1785.0746268656717\n",
      "IRANI CAFE :  1400.0\n",
      "CAFÉ :  707.1174377224199\n",
      "CLUB :  2303.5714285714284\n",
      "DESSERT PARLOR :  330.8766233766234\n",
      "BEVERAGE SHOP :  265.7429718875502\n"
     ]
    }
   ],
   "source": [
    "title_list_set = set([a for b in title_list.tolist() for a in b])\n",
    "for title in title_list_set:\n",
    "    print(title, \": \", df_train[df_train['TITLE'].str.contains(title)]['COST'].mean())"
   ]
  },
  {
   "cell_type": "code",
   "execution_count": 208,
   "metadata": {},
   "outputs": [],
   "source": [
    "#Merging similar titles to reduce title variations\n",
    "df['TITLE'] = df['TITLE'].str.replace('PUB','BAR')\n",
    "df['TITLE'] = df['TITLE'].str.replace('MICROBREWERY','BAR')\n",
    "df['TITLE'] = df['TITLE'].str.replace('IRANI CAFE','BAR')\n",
    "df['TITLE'] = df['TITLE'].str.replace('BHOJANALYA','MESS')\n",
    "df['TITLE'] = df['TITLE'].str.replace('CONFECTIONERY','BAKERY')\n",
    "df['TITLE'] = df['TITLE'].str.replace('DESSERT PARLOR','BAKERY')\n",
    "df['TITLE'] = df['TITLE'].str.replace('SWEET SHOP','BEVERAGE SHOP')\n",
    "df['TITLE'] = df['TITLE'].str.replace('FOOD COURT','QUICK BITES')\n",
    "df['TITLE'] = df['TITLE'].str.replace('KIOSK','MESS')\n",
    "df['TITLE'] = df['TITLE'].str.replace('CLUB','FINE DINING')\n",
    "df['TITLE'] = df['TITLE'].str.replace('COCKTAIL BAR','FINE DINING')\n",
    "df['TITLE'] = df['TITLE'].str.replace('DHABA','QUICK BITES')\n",
    "df['TITLE'] = df['TITLE'].str.replace('PAAN SHOP','None')\n",
    "df['TITLE'] = df['TITLE'].str.replace('MEAT SHOP','QUICK BITES')\n",
    "df['TITLE'] = df['TITLE'].str.replace('FOOD TRUCK','QUICK BITES')\n",
    "df['TITLE'] = df['TITLE'].str.replace('LOUNGE','BAR')"
   ]
  },
  {
   "cell_type": "code",
   "execution_count": 209,
   "metadata": {},
   "outputs": [
    {
     "data": {
      "text/plain": [
       "Counter({'CASUAL DINING': 5865,\n",
       "         'BAR': 1455,\n",
       "         'QUICK BITES': 6392,\n",
       "         'BAKERY': 1508,\n",
       "         'CAFÉ': 1140,\n",
       "         'BEVERAGE SHOP': 549,\n",
       "         'None': 1293,\n",
       "         'FINE DINING': 514,\n",
       "         'MESS': 149})"
      ]
     },
     "execution_count": 209,
     "metadata": {},
     "output_type": "execute_result"
    }
   ],
   "source": [
    "title_list = df['TITLE'].str.split(',')\n",
    "title_counter = Counter(([a for b in title_list.tolist() for a in b]))\n",
    "title_counter"
   ]
  },
  {
   "cell_type": "code",
   "execution_count": 210,
   "metadata": {},
   "outputs": [],
   "source": [
    "# Creating one-hot encoding manually. Similar function is used to create one-hot encoded columns for \n",
    "# CUISINES, CITY and LOCALITY\n",
    "for title in title_counter.keys():\n",
    "    df[title] = 0\n",
    "    df.loc[df['TITLE'].str.contains(title), title] = 1"
   ]
  },
  {
   "cell_type": "code",
   "execution_count": 211,
   "metadata": {},
   "outputs": [],
   "source": [
    "df['CUISINES'] = df['CUISINES'].str.lower()\n",
    "df['CUISINES'] = df['CUISINES'].str.replace(' ','')\n",
    "dftemp = df[:ntrain]"
   ]
  },
  {
   "cell_type": "code",
   "execution_count": 212,
   "metadata": {},
   "outputs": [
    {
     "data": {
      "text/plain": [
       "Counter({'malwani': 74,\n",
       "         'goan': 42,\n",
       "         'northindian': 7222,\n",
       "         'asian': 600,\n",
       "         'modernindian': 87,\n",
       "         'japanese': 190,\n",
       "         'chinese': 5849,\n",
       "         'biryani': 1683,\n",
       "         'hyderabadi': 180,\n",
       "         'tibetan': 65,\n",
       "         'desserts': 1507,\n",
       "         'seafood': 768,\n",
       "         'cafe': 1115,\n",
       "         'pizza': 700,\n",
       "         'burger': 493,\n",
       "         'barfood': 45,\n",
       "         'southindian': 3034,\n",
       "         'fastfood': 2866,\n",
       "         'beverages': 1286,\n",
       "         'arabian': 534,\n",
       "         'mughlai': 1029,\n",
       "         'maharashtrian': 95,\n",
       "         'parsi': 28,\n",
       "         'thai': 427,\n",
       "         'bakery': 874,\n",
       "         'momos': 493,\n",
       "         'continental': 2095,\n",
       "         'european': 326,\n",
       "         'rolls': 348,\n",
       "         'andhra': 327,\n",
       "         'italian': 1536,\n",
       "         'bbq': 215,\n",
       "         'fingerfood': 374,\n",
       "         'tea': 79,\n",
       "         'american': 388,\n",
       "         'healthyfood': 290,\n",
       "         'coffee': 63,\n",
       "         'indonesian': 23,\n",
       "         'korean': 46,\n",
       "         'nepalese': 18,\n",
       "         'icecream': 464,\n",
       "         'mexican': 345,\n",
       "         'kerala': 721,\n",
       "         'indian': 56,\n",
       "         'mithai': 257,\n",
       "         'streetfood': 881,\n",
       "         'malaysian': 50,\n",
       "         'vietnamese': 40,\n",
       "         'iranian': 15,\n",
       "         'kebab': 309,\n",
       "         'juices': 325,\n",
       "         'sandwich': 323,\n",
       "         'mediterranean': 202,\n",
       "         'salad': 338,\n",
       "         'gujarati': 51,\n",
       "         'rajasthani': 59,\n",
       "         'tex-mex': 23,\n",
       "         'roastchicken': 7,\n",
       "         'burmese': 32,\n",
       "         'chettinad': 162,\n",
       "         'northeastern': 21,\n",
       "         'lebanese': 205,\n",
       "         'coffeeandtea': 2,\n",
       "         'grill': 16,\n",
       "         '': 139,\n",
       "         'bihari': 15,\n",
       "         'bengali': 113,\n",
       "         'lucknowi': 23,\n",
       "         'awadhi': 23,\n",
       "         'steak': 57,\n",
       "         'french': 35,\n",
       "         'portuguese': 8,\n",
       "         'wraps': 41,\n",
       "         'srilankan': 11,\n",
       "         'oriya': 22,\n",
       "         'ethiopian': 1,\n",
       "         'konkan': 28,\n",
       "         'sushi': 76,\n",
       "         'spanish': 23,\n",
       "         'russian': 2,\n",
       "         'mangalorean': 77,\n",
       "         'turkish': 25,\n",
       "         'bubbletea': 12,\n",
       "         'afghan': 27,\n",
       "         'naga': 8,\n",
       "         'singaporean': 16,\n",
       "         'german': 5,\n",
       "         'middleeastern': 33,\n",
       "         'sindhi': 5,\n",
       "         'cantonese': 4,\n",
       "         'hotpot': 1,\n",
       "         'panasian': 2,\n",
       "         'satay': 1,\n",
       "         'dumplings': 1,\n",
       "         'kashmiri': 10,\n",
       "         'rawmeats': 4,\n",
       "         'drinksonly': 8,\n",
       "         'moroccan': 4,\n",
       "         'panini': 4,\n",
       "         'cafefood': 6,\n",
       "         'charcoalchicken': 10,\n",
       "         'belgian': 2,\n",
       "         'mongolian': 4,\n",
       "         'tamil': 5,\n",
       "         'african': 3,\n",
       "         'paan': 6,\n",
       "         'assamese': 3,\n",
       "         'hotdogs': 1,\n",
       "         'poké': 6,\n",
       "         'british': 8,\n",
       "         'bohri': 3,\n",
       "         'fusion': 2,\n",
       "         'armenian': 1,\n",
       "         'southamerican': 5,\n",
       "         'greek': 8,\n",
       "         'pakistani': 4,\n",
       "         'peruvian': 2,\n",
       "         'cuisinevaries': 2,\n",
       "         'irish': 1,\n",
       "         'multicuisine': 1,\n",
       "         'jewish': 1,\n",
       "         'vegan': 2,\n",
       "         'oriental': 2,\n",
       "         'modernaustralian': 1,\n",
       "         'egyptian': 2,\n",
       "         'fishandchips': 1,\n",
       "         'brazilian': 1,\n",
       "         'mishti': 1,\n",
       "         'falafel': 1,\n",
       "         'hawaiian': 1})"
      ]
     },
     "execution_count": 212,
     "metadata": {},
     "output_type": "execute_result"
    }
   ],
   "source": [
    "cuisines_list = df['CUISINES'].str.split(',')\n",
    "cuisines_counter = Counter(([a for b in cuisines_list.tolist() for a in b]))\n",
    "cuisines_counter"
   ]
  },
  {
   "cell_type": "code",
   "execution_count": 213,
   "metadata": {},
   "outputs": [
    {
     "name": "stdout",
     "output_type": "stream",
     "text": [
      " :  655.2522458628841\n",
      "mediterranean :  1721.8954248366013\n",
      "asian :  1460.972850678733\n",
      "panini :  450.0\n",
      "bengali :  632.7380952380952\n",
      "lebanese :  734.1935483870968\n",
      "mangalorean :  892.96875\n",
      "bihari :  419.2307692307692\n",
      "peruvian :  2850.0\n",
      "hotpot :  700.0\n",
      "northindian :  745.8497120564741\n",
      "burmese :  962.0\n",
      "pizza :  725.1953125\n",
      "oriental :  3000.0\n",
      "pakistani :  1500.0\n",
      "british :  1150.0\n",
      "beverages :  455.5739400206825\n",
      "coffeeandtea :  425.0\n",
      "paan :  120.0\n",
      "belgian :  1050.0\n",
      "icecream :  306.1624649859944\n",
      "mughlai :  783.8239159001314\n",
      "mongolian :  900.0\n",
      "northeastern :  738.2352941176471\n",
      "fishandchips :  nan\n",
      "african :  900.0\n",
      "sandwich :  435.02024291497975\n",
      "spanish :  1865.7894736842106\n",
      "hawaiian :  nan\n",
      "gujarati :  812.7906976744187\n",
      "russian :  1200.0\n",
      "indian :  694.0690603514133\n",
      "afghan :  691.6666666666666\n",
      "jewish :  700.0\n",
      "wraps :  496.875\n",
      "portuguese :  1333.3333333333333\n",
      "modernindian :  1630.4347826086957\n",
      "dumplings :  950.0\n",
      "bohri :  466.6666666666667\n",
      "southamerican :  1650.0\n",
      "bbq :  908.2857142857143\n",
      "german :  1700.0\n",
      "korean :  1476.388888888889\n",
      "modernaustralian :  2200.0\n",
      "chinese :  689.6014194139194\n",
      "bakery :  373.8610687022901\n",
      "tex-mex :  1330.952380952381\n",
      "tibetan :  520.5882352941177\n",
      "maharashtrian :  603.125\n",
      "chettinad :  610.4477611940298\n",
      "assamese :  550.0\n",
      "satay :  950.0\n",
      "irish :  2500.0\n",
      "nepalese :  653.8461538461538\n",
      "singaporean :  1230.7692307692307\n",
      "cantonese :  2733.3333333333335\n",
      "sindhi :  800.0\n",
      "fastfood :  416.1103253182461\n",
      "rawmeats :  583.3333333333334\n",
      "sushi :  1696.3636363636363\n",
      "grill :  650.0\n",
      "lucknowi :  1509.375\n",
      "iranian :  745.0\n",
      "vietnamese :  1670.6896551724137\n",
      "italian :  1179.7379912663755\n",
      "barfood :  1835.2941176470588\n",
      "juices :  385.531914893617\n",
      "mithai :  298.41269841269843\n",
      "rolls :  400.32\n",
      "desserts :  467.2504363001745\n",
      "falafel :  nan\n",
      "vegan :  700.0\n",
      "egyptian :  3000.0\n",
      "rajasthani :  783.3333333333334\n",
      "poké :  1200.0\n",
      "cafe :  704.311377245509\n",
      "tamil :  425.0\n",
      "oriya :  377.5\n",
      "armenian :  2000.0\n",
      "brazilian :  nan\n",
      "salad :  1108.6\n",
      "bubbletea :  428.57142857142856\n",
      "fingerfood :  1594.043321299639\n",
      "goan :  1098.4848484848485\n",
      "srilankan :  915.0\n",
      "european :  1736.6795366795366\n",
      "mexican :  1049.8031496062993\n",
      "andhra :  657.421875\n",
      "konkan :  935.7142857142857\n",
      "biryani :  522.0396825396825\n",
      "japanese :  1887.769784172662\n",
      "american :  1086.282894736842\n",
      "arabian :  476.8939393939394\n",
      "french :  1295.2380952380952\n",
      "moroccan :  2733.3333333333335\n",
      "continental :  1203.345489443378\n",
      "thai :  888.8998035363458\n",
      "roastchicken :  387.5\n",
      "mishti :  nan\n",
      "fusion :  300.0\n",
      "middleeastern :  941.6666666666666\n",
      "malaysian :  1282.9268292682927\n",
      "multicuisine :  600.0\n",
      "streetfood :  327.6772247360483\n",
      "ethiopian :  900.0\n",
      "kerala :  494.9126213592233\n",
      "hotdogs :  500.0\n",
      "parsi :  892.1052631578947\n",
      "seafood :  938.5544217687075\n",
      "burger :  632.4175824175824\n",
      "greek :  1650.0\n",
      "coffee :  604.4444444444445\n",
      "momos :  645.0391644908616\n",
      "steak :  961.6279069767442\n",
      "naga :  664.2857142857143\n",
      "kebab :  754.5064377682403\n",
      "tea :  647.7477477477478\n",
      "indonesian :  1277.7777777777778\n",
      "kashmiri :  1750.0\n",
      "drinksonly :  1880.0\n",
      "charcoalchicken :  422.22222222222223\n",
      "awadhi :  1265.7894736842106\n",
      "panasian :  1075.0\n",
      "turkish :  734.2105263157895\n",
      "malwani :  733.0188679245283\n",
      "healthyfood :  684.7488584474886\n",
      "cuisinevaries :  650.0\n",
      "cafefood :  680.0\n",
      "hyderabadi :  848.5714285714286\n",
      "southindian :  516.9846086191733\n"
     ]
    }
   ],
   "source": [
    "cuisines_list_set = set([a for b in cuisines_list.tolist() for a in b])\n",
    "for cuisine in cuisines_list_set:\n",
    "    print(cuisine, \": \", df_train[dftemp['CUISINES'].str.contains(cuisine)]['COST'].mean())"
   ]
  },
  {
   "cell_type": "code",
   "execution_count": 214,
   "metadata": {},
   "outputs": [],
   "source": [
    "#Merging similar cuisines to reduce variations\n",
    "df['CUISINES'] = df['CUISINES'].str.replace('bihari','regional_400') #450\n",
    "df['CUISINES'] = df['CUISINES'].str.replace('bohri','regional_400')\n",
    "df['CUISINES'] = df['CUISINES'].str.replace('tamil','regional_400')\n",
    "df['CUISINES'] = df['CUISINES'].str.replace('oriya','regional_400')\n",
    "df['CUISINES'] = df['CUISINES'].str.replace('kerala','regional_400')\n",
    "\n",
    "df['CUISINES'] = df['CUISINES'].str.replace('panini','sandwich') #450\n",
    "df['CUISINES'] = df['CUISINES'].str.replace('charcoalchicken','sandwich')\n",
    "\n",
    "df['CUISINES'] = df['CUISINES'].str.replace('bengali','regional_650') #650\n",
    "df['CUISINES'] = df['CUISINES'].str.replace('chettinad','regional_650')\n",
    "df['CUISINES'] = df['CUISINES'].str.replace('maharashtrian','regional_650')\n",
    "df['CUISINES'] = df['CUISINES'].str.replace('nepalese','regional_650')\n",
    "df['CUISINES'] = df['CUISINES'].str.replace('andhra','regional_650')\n",
    "\n",
    "df['CUISINES'] = df['CUISINES'].str.replace('hotpot','regional_650') #700\n",
    "df['CUISINES'] = df['CUISINES'].str.replace('pizza','regional_650')\n",
    "df['CUISINES'] = df['CUISINES'].str.replace('chinese','regional_650')\n",
    "df['CUISINES'] = df['CUISINES'].str.replace('vegan','regional_650')\n",
    "df['CUISINES'] = df['CUISINES'].str.replace('cafe','regional_650')\n",
    "df['CUISINES'] = df['CUISINES'].str.replace('cafefood','regional_650')\n",
    "df['CUISINES'] = df['CUISINES'].str.replace('healthyfood','')\n",
    "df['CUISINES'] = df['CUISINES'].str.replace('lebanese','kebab') #750\n",
    "df['CUISINES'] = df['CUISINES'].str.replace('turkish','kebab')\n",
    "\n",
    "df['CUISINES'] = df['CUISINES'].str.replace('mangalorean','seafood') #900\n",
    "df['CUISINES'] = df['CUISINES'].str.replace('konkan','seafood')\n",
    "df['CUISINES'] = df['CUISINES'].str.replace('thai','seafood')\n",
    "df['CUISINES'] = df['CUISINES'].str.replace('parsi','seafood')\n",
    "df['CUISINES'] = df['CUISINES'].str.replace('srilankan','seafood')\n",
    " \n",
    "df['CUISINES'] = df['CUISINES'].str.replace('korean','asian') #1450\n",
    "df['CUISINES'] = df['CUISINES'].str.replace('singaporean','asian')\n",
    "df['CUISINES'] = df['CUISINES'].str.replace('sushi','asian')\n",
    "df['CUISINES'] = df['CUISINES'].str.replace('vietnamese','asian')\n",
    "df['CUISINES'] = df['CUISINES'].str.replace('malaysian','asian')\n",
    "df['CUISINES'] = df['CUISINES'].str.replace('indonesian','asian')\n",
    "df['CUISINES'] = df['CUISINES'].str.replace('modernindian','asian')\n",
    "\n",
    "df['CUISINES'] = df['CUISINES'].str.replace('mediterranean','european') #1750\n",
    "df['CUISINES'] = df['CUISINES'].str.replace('spanish','european') \n",
    "df['CUISINES'] = df['CUISINES'].str.replace('barfood','european') \n",
    "df['CUISINES'] = df['CUISINES'].str.replace('fingerfood','european') \n",
    "df['CUISINES'] = df['CUISINES'].str.replace('japanese','european')\n",
    "df['CUISINES'] = df['CUISINES'].str.replace('greek','european')\n",
    "df['CUISINES'] = df['CUISINES'].str.replace('drinksonly','european')\n",
    "\n",
    "df['CUISINES'] = df['CUISINES'].str.replace('peruvian','european') #2700\n",
    "df['CUISINES'] = df['CUISINES'].str.replace('cantonese','european') \n",
    "df['CUISINES'] = df['CUISINES'].str.replace('egyptian','european')\n",
    "df['CUISINES'] = df['CUISINES'].str.replace('moroccan','european')\n",
    "df['CUISINES'] = df['CUISINES'].str.replace('irish','european')\n",
    "\n",
    "df['CUISINES'] = df['CUISINES'].str.replace('Malwani','Regional')\n",
    "df['CUISINES'] = df['CUISINES'].str.replace('BubbleTea','Desserts')\n",
    "df['CUISINES'] = df['CUISINES'].str.replace('CoffeeandTea','Beverages')\n",
    "df['CUISINES'] = df['CUISINES'].str.replace('Hyderabadi','Biryani')\n",
    "df['CUISINES'] = df['CUISINES'].str.replace('Goan','Regional')\n",
    "df['CUISINES'] = df['CUISINES'].str.replace('Thai','Asian')\n",
    "df['CUISINES'] = df['CUISINES'].str.replace('Japanese','Asian')\n",
    "df['CUISINES'] = df['CUISINES'].str.replace('BarFood','FastFood')\n",
    "df['CUISINES'] = df['CUISINES'].str.replace('Juices','Beverages')\n",
    "df['CUISINES'] = df['CUISINES'].str.replace('Bakery','Desserts')\n",
    "#df['CUISINES'] = df['CUISINES'].str.replace('Continental,','Continental')\n",
    "df['CUISINES'] = df['CUISINES'].str.replace('Tibetan','Asian')\n",
    "df['CUISINES'] = df['CUISINES'].str.replace('ModernIndian','European')\n",
    "df['CUISINES'] = df['CUISINES'].str.replace('Pizza','FastFood')\n",
    "df['CUISINES'] = df['CUISINES'].str.replace('Burger','FastFood')\n",
    "df['CUISINES'] = df['CUISINES'].str.replace('Maharashtrian','Regional')\n",
    "df['CUISINES'] = df['CUISINES'].str.replace('Parsi','Regional')\n",
    "df['CUISINES'] = df['CUISINES'].str.replace('Thai','Asian')\n",
    "df['CUISINES'] = df['CUISINES'].str.replace('Momos','FastFood')\n",
    "df['CUISINES'] = df['CUISINES'].str.replace('Rolls','FastFood')\n",
    "df['CUISINES'] = df['CUISINES'].str.replace('Italian','European')\n",
    "df['CUISINES'] = df['CUISINES'].str.replace('Andhra','Regional')\n",
    "df['CUISINES'] = df['CUISINES'].str.replace('BBQ','European')\n",
    "df['CUISINES'] = df['CUISINES'].str.replace('FingerFood','FastFood')\n",
    "df['CUISINES'] = df['CUISINES'].str.replace('Tea','Beverages')\n",
    "df['CUISINES'] = df['CUISINES'].str.replace('American','European')\n",
    "df['CUISINES'] = df['CUISINES'].str.replace('HealthyFood','Salad')\n",
    "df['CUISINES'] = df['CUISINES'].str.replace('Coffee','Beverages')\n",
    "df['CUISINES'] = df['CUISINES'].str.replace('Indonesian','Asian')\n",
    "df['CUISINES'] = df['CUISINES'].str.replace('Korean','Asian')\n",
    "df['CUISINES'] = df['CUISINES'].str.replace('Nepalese','Asian')\n",
    "df['CUISINES'] = df['CUISINES'].str.replace('Mexican','European')\n",
    "df['CUISINES'] = df['CUISINES'].str.replace('IceCream','Desserts')\n",
    "df['CUISINES'] = df['CUISINES'].str.replace('Kerala','Regional')\n",
    "#df['CUISINES'] = df['CUISINES'].str.replace('Indian','North Indian')\n",
    "df['CUISINES'] = df['CUISINES'].str.replace('Mithai','Desserts')\n",
    "df['CUISINES'] = df['CUISINES'].str.replace('StreetFood','FastFood')\n",
    "df['CUISINES'] = df['CUISINES'].str.replace('Malaysian','Asian')\n",
    "df['CUISINES'] = df['CUISINES'].str.replace('Vietnamese','Asian')\n",
    "df['CUISINES'] = df['CUISINES'].str.replace('Arabian','European')\n",
    "df['CUISINES'] = df['CUISINES'].str.replace('Iranian','European')\n",
    "df['CUISINES'] = df['CUISINES'].str.replace('Kebab','FastFood')\n",
    "df['CUISINES'] = df['CUISINES'].str.replace('Sandwich','FastFood')\n",
    "df['CUISINES'] = df['CUISINES'].str.replace('Mediterranean','European')\n",
    "df['CUISINES'] = df['CUISINES'].str.replace('Gujarati','Regional')\n",
    "df['CUISINES'] = df['CUISINES'].str.replace('Rajasthani','Regional')\n",
    "df['CUISINES'] = df['CUISINES'].str.replace('Tex-Mex','European')\n",
    "df['CUISINES'] = df['CUISINES'].str.replace('RoastChicken','European')\n",
    "df['CUISINES'] = df['CUISINES'].str.replace('Chettinad','Regional')\n",
    "df['CUISINES'] = df['CUISINES'].str.replace('NorthEastern','Regional')\n",
    "df['CUISINES'] = df['CUISINES'].str.replace('Lebanese','European')\n",
    "df['CUISINES'] = df['CUISINES'].str.replace('Grill','European')\n",
    "#df['CUISINES'] = df['CUISINES'].str.replace('Biryani,','Biryani')\n",
    "df['CUISINES'] = df['CUISINES'].str.replace('Bihari','Regional')\n",
    "df['CUISINES'] = df['CUISINES'].str.replace('Bengali','Regional')\n",
    "df['CUISINES'] = df['CUISINES'].str.replace('Lucknowi','Regional')\n",
    "df['CUISINES'] = df['CUISINES'].str.replace('Awadhi','Regional')\n",
    "df['CUISINES'] = df['CUISINES'].str.replace('Steak','European')\n",
    "df['CUISINES'] = df['CUISINES'].str.replace('French','European')\n",
    "df['CUISINES'] = df['CUISINES'].str.replace('Portuguese','European')\n",
    "df['CUISINES'] = df['CUISINES'].str.replace('Wraps','FastFood')\n",
    "df['CUISINES'] = df['CUISINES'].str.replace('SriLankan','Asian')\n",
    "df['CUISINES'] = df['CUISINES'].str.replace('Oriya','Regional')\n",
    "df['CUISINES'] = df['CUISINES'].str.replace('Ethiopian','European')\n",
    "df['CUISINES'] = df['CUISINES'].str.replace('Konkan','Regional')\n",
    "df['CUISINES'] = df['CUISINES'].str.replace('Sushi','Asian')\n",
    "df['CUISINES'] = df['CUISINES'].str.replace('Spanish','European')\n",
    "df['CUISINES'] = df['CUISINES'].str.replace('Russian','European')\n",
    "df['CUISINES'] = df['CUISINES'].str.replace('Mangalorean','Regional')\n",
    "df['CUISINES'] = df['CUISINES'].str.replace('Turkish','European')\n",
    "#df['CUISINES'] = df['CUISINES'].str.replace(',','North Indian')\n",
    "#df['CUISINES'] = df['CUISINES'].str.replace('European,','European')\n",
    "#df['CUISINES'] = df['CUISINES'].str.replace('Salad,','Salad')\n",
    "#df['CUISINES'] = df['CUISINES'].str.replace('Healthy Food,','Salad')\n",
    "#df['CUISINES'] = df['CUISINES'].str.replace('Desserts,','Desserts')\n",
    "df['CUISINES'] = df['CUISINES'].str.replace('Naga','Regional')\n",
    "df['CUISINES'] = df['CUISINES'].str.replace('Singaporean','Asian')\n",
    "df['CUISINES'] = df['CUISINES'].str.replace('German','European')\n",
    "df['CUISINES'] = df['CUISINES'].str.replace('MiddleEastern','European')\n",
    "df['CUISINES'] = df['CUISINES'].str.replace('Sindhi','Regional')\n",
    "df['CUISINES'] = df['CUISINES'].str.replace('Cantonese','Asian')\n",
    "df['CUISINES'] = df['CUISINES'].str.replace('HotPot','Asian')\n",
    "df['CUISINES'] = df['CUISINES'].str.replace('Kashmiri','Regional')\n",
    "df['CUISINES'] = df['CUISINES'].str.replace('British','European')"
   ]
  },
  {
   "cell_type": "code",
   "execution_count": 215,
   "metadata": {},
   "outputs": [],
   "source": [
    "df['CUISINES'] = df['CUISINES'].str.replace('PanAsian','Asian')\n",
    "df['CUISINES'] = df['CUISINES'].str.replace('Satay','Asian')\n",
    "df['CUISINES'] = df['CUISINES'].str.replace('Dumplings','FastFood')\n",
    "df['CUISINES'] = df['CUISINES'].str.replace('RawMeats','FastFood')\n",
    "df['CUISINES'] = df['CUISINES'].str.replace('DrinksOnly','Beverages')\n",
    "df['CUISINES'] = df['CUISINES'].str.replace('CafeFood','Cafe')\n",
    "df['CUISINES'] = df['CUISINES'].str.replace('Hotdogs','FastFood')\n",
    "df['CUISINES'] = df['CUISINES'].str.replace('Burmese','Asian')\n",
    "df['CUISINES'] = df['CUISINES'].str.replace('Afghan','European')\n",
    "df['CUISINES'] = df['CUISINES'].str.replace('SouthEuropean','European')"
   ]
  },
  {
   "cell_type": "code",
   "execution_count": 216,
   "metadata": {},
   "outputs": [],
   "source": [
    "regional_replace = ['Tamil','Assamese','Bohri','Mishti']\n",
    "for cuisine in regional_replace:\n",
    "    df['CUISINES'] = df['CUISINES'].str.replace(cuisine,'Regional')"
   ]
  },
  {
   "cell_type": "code",
   "execution_count": 217,
   "metadata": {},
   "outputs": [],
   "source": [
    "cuisine_df = pd.DataFrame.from_dict(cuisines_counter, orient='index').reset_index()\n",
    "cuisine_df.columns = ['cuisine','counts']\n",
    "european_replace = list(cuisine_df[cuisine_df.counts<=10]['cuisine'])\n",
    "for cuisine in european_replace:\n",
    "    df['CUISINES'] = df['CUISINES'].str.replace(cuisine,'European')"
   ]
  },
  {
   "cell_type": "code",
   "execution_count": 218,
   "metadata": {},
   "outputs": [],
   "source": [
    "df['CUISINES'] = df['CUISINES'].str.replace('NorthIndian','Northindian')\n",
    "df['CUISINES'] = df['CUISINES'].str.replace('SouthIndian','Southindian')\n",
    "df['CUISINES'] = df['CUISINES'].str.replace('Indian','Northindian')"
   ]
  },
  {
   "cell_type": "code",
   "execution_count": 219,
   "metadata": {},
   "outputs": [
    {
     "data": {
      "text/plain": [
       "Counter({'malwani': 74,\n",
       "         'goan': 42,\n",
       "         'northindian': 7222,\n",
       "         'asian': 600,\n",
       "         'modernindian': 87,\n",
       "         'japanese': 190,\n",
       "         'chinese': 5849,\n",
       "         'biryani': 1683,\n",
       "         'hyderabadi': 180,\n",
       "         'tibetan': 65,\n",
       "         'desserts': 1507,\n",
       "         'seafood': 768,\n",
       "         'cafe': 1115,\n",
       "         'pizza': 700,\n",
       "         'burger': 493,\n",
       "         'barfood': 45,\n",
       "         'southindian': 3034,\n",
       "         'fastfood': 2866,\n",
       "         'beverages': 1286,\n",
       "         'arabian': 534,\n",
       "         'mughlai': 1029,\n",
       "         'maharashtrian': 95,\n",
       "         'parsi': 28,\n",
       "         'thai': 427,\n",
       "         'bakery': 874,\n",
       "         'momos': 493,\n",
       "         'continental': 2095,\n",
       "         'european': 326,\n",
       "         'rolls': 348,\n",
       "         'andhra': 327,\n",
       "         'italian': 1536,\n",
       "         'bbq': 215,\n",
       "         'fingerfood': 374,\n",
       "         'tea': 79,\n",
       "         'american': 388,\n",
       "         'healthyfood': 290,\n",
       "         'coffee': 63,\n",
       "         'indonesian': 23,\n",
       "         'korean': 46,\n",
       "         'nepalese': 18,\n",
       "         'icecream': 464,\n",
       "         'mexican': 345,\n",
       "         'kerala': 721,\n",
       "         'indian': 56,\n",
       "         'mithai': 257,\n",
       "         'streetfood': 881,\n",
       "         'malaysian': 50,\n",
       "         'vietnamese': 40,\n",
       "         'iranian': 15,\n",
       "         'kebab': 309,\n",
       "         'juices': 325,\n",
       "         'sandwich': 323,\n",
       "         'mediterranean': 202,\n",
       "         'salad': 338,\n",
       "         'gujarati': 51,\n",
       "         'rajasthani': 59,\n",
       "         'tex-mex': 23,\n",
       "         'European': 173,\n",
       "         'burmese': 32,\n",
       "         'chettinad': 162,\n",
       "         'northeastern': 21,\n",
       "         'lebanese': 205,\n",
       "         'grill': 16,\n",
       "         'bihari': 15,\n",
       "         'bengali': 113,\n",
       "         'lucknowi': 23,\n",
       "         'awadhi': 23,\n",
       "         'steak': 57,\n",
       "         'french': 35,\n",
       "         'wraps': 41,\n",
       "         'srilankan': 11,\n",
       "         'oriya': 22,\n",
       "         'konkan': 28,\n",
       "         'sushi': 76,\n",
       "         'spanish': 23,\n",
       "         'mangalorean': 77,\n",
       "         'turkish': 25,\n",
       "         'bubbletea': 12,\n",
       "         'afghan': 27,\n",
       "         'singaporean': 16,\n",
       "         'middleeastern': 33})"
      ]
     },
     "execution_count": 219,
     "metadata": {},
     "output_type": "execute_result"
    }
   ],
   "source": [
    "cuisines_list = df['CUISINES'].str.split(',')\n",
    "cuisines_counter = Counter(([a for b in cuisines_list.tolist() for a in b]))\n",
    "del cuisines_counter['']\n",
    "cuisines_counter"
   ]
  },
  {
   "cell_type": "code",
   "execution_count": 220,
   "metadata": {},
   "outputs": [],
   "source": [
    "for cuisine in cuisines_counter.keys():\n",
    "    df[cuisine] = 0\n",
    "    df.loc[df['CUISINES'].str.contains(cuisine), cuisine] = 1"
   ]
  },
  {
   "cell_type": "code",
   "execution_count": 221,
   "metadata": {},
   "outputs": [],
   "source": [
    "df.TIME = df.TIME.str.lower()\n",
    "df.TIME = df.TIME.str.replace(\" \",\"\")\n",
    "df.TIME = df.TIME.str.replace(\"–\",'-')"
   ]
  },
  {
   "cell_type": "code",
   "execution_count": 222,
   "metadata": {},
   "outputs": [],
   "source": [
    "df['all_days'] = 0\n",
    "df.loc[df.TIME.str.contains(r'(\\(mon\\-sun\\))'),'all_days'] = 1\n",
    "df.TIME = df.TIME.str.replace(\"\\(mon-sun\\)\",\"\")"
   ]
  },
  {
   "cell_type": "code",
   "execution_count": 223,
   "metadata": {},
   "outputs": [],
   "source": [
    "df['closed_weekend'] = 0\n",
    "df.loc[df.TIME.str.contains(\"closed\\(sun\\)\"),\"closed_weekend\"] = 1\n",
    "df.loc[df.TIME.str.contains(\"closed\\(sat\\)\"),\"closed_weekend\"] = 1\n",
    "df.TIME = df.TIME.str.replace(\"closed\\(sun\\)\",\"\")\n",
    "df.TIME = df.TIME.str.replace(\"closed\\(sat\\)\",\"\")"
   ]
  },
  {
   "cell_type": "code",
   "execution_count": 224,
   "metadata": {},
   "outputs": [],
   "source": [
    "df['closed_weekday'] = 0\n",
    "df.loc[df.TIME.str.contains(\"closed\\(mon\\)\"),\"closed_weekday\"] = 1\n",
    "df.loc[df.TIME.str.contains(\"closed\\(tue\\)\"),\"closed_weekday\"] = 1\n",
    "df.loc[df.TIME.str.contains(\"closed\\(wed\\)\"),\"closed_weekday\"] = 1\n",
    "df.TIME = df.TIME.str.replace(\"closed\\(mon\\)\",\"\")\n",
    "df.TIME = df.TIME.str.replace(\"closed\\(tue\\)\",\"\")\n",
    "df.TIME = df.TIME.str.replace(\"closed\\(wed\\)\",\"\")"
   ]
  },
  {
   "cell_type": "code",
   "execution_count": 225,
   "metadata": {},
   "outputs": [],
   "source": [
    "#df.TIME = df.TIME.str.replace(\",\",' ')\n",
    "df.TIME = df.TIME.str.replace(\"(\",' ')"
   ]
  },
  {
   "cell_type": "code",
   "execution_count": 226,
   "metadata": {},
   "outputs": [],
   "source": [
    "df.TIME = df.TIME.str.strip()\n",
    "df.TIME = df.TIME.str.split(\" \").str.get(0).str.lstrip(',')"
   ]
  },
  {
   "cell_type": "code",
   "execution_count": 227,
   "metadata": {},
   "outputs": [],
   "source": [
    "df.TIME = df.TIME.str.replace(\"-\",\" \")\n",
    "df.TIME = df.TIME.str.replace(\",\",\" \")"
   ]
  },
  {
   "cell_type": "code",
   "execution_count": 228,
   "metadata": {},
   "outputs": [],
   "source": [
    "df.TIME = df.TIME.str.replace(\"12noon\",\"12:01\")\n",
    "df.TIME = df.TIME.str.replace(\"12midnight\",\"00:01\")\n",
    "df.TIME[df.TIME.str.contains(\"24hours\")] = \"00:01 23:59\"\n",
    "df.TIME[df.TIME.str.contains(\"notavailable\")] = \"11am 11pm\"\n",
    "df.TIME[df.TIME.str.contains(\"mon\")] = \"11am 11pm\"\n",
    "df.TIME[df.TIME.str.contains(\"closed\")] = \"9am 9am\"\n",
    "df.TIME = df.TIME.str.replace(\".\",\"\")\n",
    "df.TIME[df.TIME == \"\"] = \"11am 11pm\""
   ]
  },
  {
   "cell_type": "code",
   "execution_count": 229,
   "metadata": {
    "scrolled": true
   },
   "outputs": [],
   "source": [
    "from dateutil.parser import parse\n",
    "a = df.TIME.str.split(' ', expand=True)\n",
    "a.columns = [\"1\",\"2\",\"3\",\"4\",\"5\",\"6\"]\n",
    "a['1'] = a['1'].apply(lambda x: parse(x))\n",
    "a['2'] = a['2'].apply(lambda x: parse(x))\n",
    "a['3'] = a['3'].apply(lambda x: parse(x) if x is not None else x)\n",
    "a['4'][a['4']==\"\"] = None\n",
    "a['6'][a['6']==\"\"] = None\n",
    "a['4'] = a['4'].apply(lambda x: parse(x) if x is not None else x)\n",
    "a['5'] = a['5'].apply(lambda x: parse(x) if x is not None else x)\n",
    "a['6'] = a['6'].apply(lambda x: parse(x) if x is not None else x)"
   ]
  },
  {
   "cell_type": "code",
   "execution_count": 230,
   "metadata": {},
   "outputs": [],
   "source": [
    "a['2'] = a.apply(lambda row: row['2']+datetime.timedelta(days=1) if (row['2']-row['1']) < datetime.timedelta(minutes=1) else row['2'], axis=1)\n",
    "a['3'] = a.apply(lambda row: row['3']+datetime.timedelta(days=1) if (row['3']-row['1']) < datetime.timedelta(minutes=1) else row['3'], axis=1)\n",
    "a['4'] = a.apply(lambda row: row['4']+datetime.timedelta(days=1) if (row['3']-row['1']) < datetime.timedelta(minutes=1) else row['4'], axis=1)"
   ]
  },
  {
   "cell_type": "code",
   "execution_count": 231,
   "metadata": {},
   "outputs": [],
   "source": [
    "a['2-1'] = a['2']-a['1']\n",
    "a['4-3'] = a['4']-a['3']\n",
    "a['6-5'] = a['6']-a['5']"
   ]
  },
  {
   "cell_type": "code",
   "execution_count": 232,
   "metadata": {},
   "outputs": [],
   "source": [
    "a['4-3'].fillna(0, inplace=True)\n",
    "a['6-5'].fillna(0, inplace=True)\n",
    "a['duration'] = a['2-1']+a['4-3']+a['6-5']\n",
    "a['closing_time'] = a[[\"2\",\"4\",\"6\"]].max(axis=1).dt.time\n",
    "a['opening_time'] = a['1'].dt.time"
   ]
  },
  {
   "cell_type": "code",
   "execution_count": 233,
   "metadata": {},
   "outputs": [],
   "source": [
    "a['late_night'] = 0\n",
    "a.loc[(a.closing_time>=datetime.time(23,45,0)) | ((a.closing_time>datetime.time(0,0,0)) & (a.closing_time<=datetime.time(5,0,0))), 'late_night'] = 1"
   ]
  },
  {
   "cell_type": "code",
   "execution_count": 234,
   "metadata": {},
   "outputs": [],
   "source": [
    "a['breakfast'] = 0\n",
    "a.loc[((a.opening_time>datetime.time(6,0,0)) & (a.opening_time<datetime.time(11,0,0))), 'breakfast'] = 1"
   ]
  },
  {
   "cell_type": "code",
   "execution_count": 235,
   "metadata": {},
   "outputs": [],
   "source": [
    "df['breakfast'] = a['breakfast']\n",
    "df['late_night'] = a['late_night']\n",
    "df['duration'] = a['duration'].dt.seconds/60"
   ]
  },
  {
   "cell_type": "code",
   "execution_count": 236,
   "metadata": {},
   "outputs": [],
   "source": [
    "df['CITY'] = df['CITY'].str.lower()\n",
    "df['CITY'][df['CITY'].isnull()] = \"None\"\n",
    "df['CITY'][df['CITY'] == 'navi mumbai'] = 'nm'"
   ]
  },
  {
   "cell_type": "code",
   "execution_count": 237,
   "metadata": {},
   "outputs": [
    {
     "data": {
      "text/plain": [
       "['chennai',\n",
       " 'bangalore',\n",
       " 'hyderabad',\n",
       " 'mumbai',\n",
       " 'kochi',\n",
       " 'new delhi',\n",
       " 'gurgaon',\n",
       " 'secunderabad',\n",
       " 'noida']"
      ]
     },
     "execution_count": 237,
     "metadata": {},
     "output_type": "execute_result"
    }
   ],
   "source": [
    "city_list = df['CITY'].value_counts().index[:9].tolist()\n",
    "for city in city_list:\n",
    "    df.CITY[df.CITY.str.contains(city)] = city\n",
    "    \n",
    "city_list"
   ]
  },
  {
   "cell_type": "code",
   "execution_count": 238,
   "metadata": {},
   "outputs": [],
   "source": [
    "df['CITY'][df['CITY'] == 'india'] = 'None'\n",
    "df['CITY'][df['CITY'].str.contains('thane')] = 'mumbai'\n",
    "df['CITY'][df['CITY'].str.contains('bandra')] = 'mumbai'\n",
    "df['CITY'][df['CITY'].str.contains('andheri')] = 'mumbai'\n",
    "df['CITY'][df['CITY'].str.contains('bengaluru')] = 'bangalore'\n",
    "df['CITY'][df['CITY'].str.contains('kakkanad')] = 'kochi'\n",
    "df['CITY'][df['CITY'].str.contains('ernakulam')] = 'kochi'\n",
    "df['CITY'][df['CITY'].str.contains('madhapur')] = 'kochi'\n",
    "df['CITY'][df['CITY'].str.contains('edappally')] = 'kochi'\n",
    "df['CITY'][df['CITY'].str.contains('kaloor')] = 'kochi'\n",
    "df['CITY'][df['CITY'] == 'kerala'] = 'kochi'\n",
    "df['CITY'][df['CITY'] == 'telangana'] = 'hyderabad'\n",
    "df['CITY'][df['CITY'] == 'jubilee hills'] = 'hyderabad'\n",
    "df['CITY'][df['CITY'] == 'gurugram'] = 'gurgaon'\n",
    "df['CITY'][df['CITY'] == 'banglore'] = 'bangalore'\n",
    "df['CITY'][df['CITY'] == 'bengalore'] = 'bangalore'\n",
    "df['CITY'][df['CITY'] == 'dwarka'] = 'new delhi'\n",
    "df.loc[df['CITY']=='delhi ncr',\"CITY\"] = \"new delhi\" \n",
    "df['CITY'][df['CITY'] == 'dwarka'] = 'new delhi'\n",
    "df['CITY'][df['CITY'] == 'delhi'] = 'new delhi'\n",
    "df['CITY'][df['CITY'] == 'maharashtra'] = 'mumbai'\n",
    "df['CITY'][df['CITY'] == 'tamil nadu'] = 'chennai'\n",
    "\n",
    "df.loc[df[\"CITY\"].isin(df['CITY'].value_counts()[df['CITY'].value_counts()<=5].index.tolist()),\"CITY\"] = \"None\""
   ]
  },
  {
   "cell_type": "code",
   "execution_count": 239,
   "metadata": {},
   "outputs": [
    {
     "data": {
      "text/plain": [
       "bangalore       2933\n",
       "chennai         2902\n",
       "mumbai          2702\n",
       "hyderabad       2494\n",
       "kochi           1849\n",
       "new delhi       1805\n",
       "gurgaon          535\n",
       "None             520\n",
       "secunderabad     401\n",
       "noida            316\n",
       "nm               223\n",
       "ghaziabad        132\n",
       "faridabad        109\n",
       "Name: CITY, dtype: int64"
      ]
     },
     "execution_count": 239,
     "metadata": {},
     "output_type": "execute_result"
    }
   ],
   "source": [
    "df['CITY'].value_counts()"
   ]
  },
  {
   "cell_type": "code",
   "execution_count": 240,
   "metadata": {},
   "outputs": [],
   "source": [
    "df['LOCALITY'] = df['LOCALITY'].str.lower()\n",
    "df['LOCALITY'][df['LOCALITY'].isnull()] = \"none\"\n",
    "df['LOCALITY'] = df['LOCALITY'].str.replace('.','')"
   ]
  },
  {
   "cell_type": "code",
   "execution_count": 241,
   "metadata": {},
   "outputs": [],
   "source": [
    "df['LOCALITY'] = df['LOCALITY'].str.replace(' west','')\n",
    "df['LOCALITY'] = df['LOCALITY'].str.replace(' east','')\n",
    "#df['LOCALITY'] = df['LOCALITY'].str.replace(' phase','')\n",
    "#df['LOCALITY'] = df['LOCALITY'].str.replace(' hills','')\n",
    "#df['LOCALITY'] = df['LOCALITY'].str.replace(' city','')\n",
    "#df['LOCALITY'] = df['LOCALITY'].str.replace(' road','')\n",
    "#df['LOCALITY'] = df['LOCALITY'].str.replace(' nagar','')\n",
    "#df['LOCALITY'] = df['LOCALITY'].str.replace(' park','')\n",
    "#df['LOCALITY'] = df['LOCALITY'].str.replace(' block','')"
   ]
  },
  {
   "cell_type": "code",
   "execution_count": 242,
   "metadata": {},
   "outputs": [],
   "source": [
    "df['LOCALITY'][df['LOCALITY'] == 'koramangala 5th block'] = 'koramangala'\n",
    "df['LOCALITY'][df['LOCALITY'].str.contains('greater kailash')] = 'greater kailash'\n",
    "df['LOCALITY'][df['LOCALITY'] == 'fort'] = 'fort kochi'\n",
    "df['LOCALITY'][df['LOCALITY'] == 'nit'] = 'nit university'\n",
    "df['LOCALITY'][df['LOCALITY'] == 'kochi'] = 'fort kochi'\n",
    "df['LOCALITY'][df['LOCALITY'] == 'koti'] = 'kotikoti'\n",
    "df['LOCALITY'][df['LOCALITY'] == 'parel'] = 'parelparel'\n",
    "df['LOCALITY'] = df['LOCALITY'].str.replace(' ','')"
   ]
  },
  {
   "cell_type": "code",
   "execution_count": 243,
   "metadata": {},
   "outputs": [],
   "source": [
    "locality_list = df['LOCALITY'].value_counts()[df['LOCALITY'].value_counts()>=80].index.tolist()\n",
    "for locality in locality_list:\n",
    "    df['LOCALITY'][df['LOCALITY'].str.contains(locality)] = locality"
   ]
  },
  {
   "cell_type": "code",
   "execution_count": 244,
   "metadata": {},
   "outputs": [],
   "source": [
    "for locality in locality_list:\n",
    "    df[locality] = 0\n",
    "    df.loc[df['LOCALITY']==locality, locality] = 1"
   ]
  },
  {
   "cell_type": "code",
   "execution_count": 245,
   "metadata": {},
   "outputs": [],
   "source": [
    "for locality in df['LOCALITY'].value_counts()[df['LOCALITY'].value_counts()<6].index.tolist():\n",
    "    df.LOCALITY[df.LOCALITY==locality] = \"none\""
   ]
  },
  {
   "cell_type": "code",
   "execution_count": 246,
   "metadata": {},
   "outputs": [
    {
     "data": {
      "text/plain": [
       "none                         1489\n",
       "koramangala                   268\n",
       "tnagar                        247\n",
       "fortkochi                     228\n",
       "gachibowli                    220\n",
       "indiranagar                   189\n",
       "annanagar                     184\n",
       "andheri                       183\n",
       "kakkanad                      180\n",
       "kukatpally                    174\n",
       "madhapur                      174\n",
       "whitefield                    166\n",
       "hsr                           164\n",
       "edappally                     161\n",
       "banjarahills                  160\n",
       "marathahalli                  150\n",
       "jubileehills                  147\n",
       "btm                           147\n",
       "mgroad                        140\n",
       "nungambakkam                  133\n",
       "bandra                        131\n",
       "jayanagar                     127\n",
       "kaloor                        126\n",
       "borivali                      123\n",
       "kondapur                      116\n",
       "electroniccity                108\n",
       "jpnagar                       108\n",
       "connaughtplace                104\n",
       "velachery                     104\n",
       "thane                         103\n",
       "malad                          98\n",
       "kandivali                      90\n",
       "miraroad                       90\n",
       "goregaon                       89\n",
       "hitechcity                     87\n",
       "marinedrive                    85\n",
       "lowerparel                     82\n",
       "vileparle                      79\n",
       "greaterkailash                 78\n",
       "vyttila                        78\n",
       "powai                          74\n",
       "palarivattom                   73\n",
       "adyar                          73\n",
       "alwarpet                       72\n",
       "rohini                         69\n",
       "chembur                        69\n",
       "mulund                         69\n",
       "juhu                           66\n",
       "mylapore                       64\n",
       "perungudi                      63\n",
       "kilpauk                        62\n",
       "indirapuram                    59\n",
       "pallimukku                     59\n",
       "porur                          59\n",
       "panampillynagar                59\n",
       "malleshwaram                   56\n",
       "egmore                         56\n",
       "bannerghattaroad               56\n",
       "manikonda                      55\n",
       "kalyannagar                    55\n",
       "begumpet                       55\n",
       "bellandur                      55\n",
       "himayathnagar                  54\n",
       "ramapuram                      54\n",
       "thuraipakkam                   53\n",
       "ameerpet                       53\n",
       "colaba                         53\n",
       "sarjapurroad                   53\n",
       "newbelroad                     53\n",
       "navallur                       53\n",
       "kacheripady                    52\n",
       "sainikpuri                     52\n",
       "vashi                          52\n",
       "ghatkopar                      51\n",
       "uppal                          51\n",
       "dilsukhnagar                   51\n",
       "mogappair                      50\n",
       "aluva                          50\n",
       "royapettah                     50\n",
       "khar                           48\n",
       "dlfphase4                      47\n",
       "vijaynagar                     47\n",
       "kadavanthra                    46\n",
       "ambattur                       46\n",
       "dlfphase3                      46\n",
       "elamkulam                      46\n",
       "chakala                        46\n",
       "brookefield                    46\n",
       "mattancherry                   46\n",
       "banashankari                   45\n",
       "sector29                       45\n",
       "lingampally                    45\n",
       "delhiuniversity-gtbnagar       44\n",
       "medavakkam                     44\n",
       "tolichowki                     43\n",
       "kalamassery                    43\n",
       "dwarka                         43\n",
       "sholinganallur                 42\n",
       "marad                          42\n",
       "kodambakkam                    42\n",
       "vadapalani                     42\n",
       "golfcourseroad                 42\n",
       "abids                          42\n",
       "marol                          41\n",
       "dombivali                      41\n",
       "gstroad                        41\n",
       "potheri                        41\n",
       "tripunithura                   41\n",
       "vasai                          40\n",
       "rajourigarden                  39\n",
       "janakpuri                      39\n",
       "sector18                       39\n",
       "rajarajeshwarinagar            39\n",
       "santacruz                      39\n",
       "sector50                       38\n",
       "chromepet                      38\n",
       "ashoknagar                     38\n",
       "mehdipatnam                    37\n",
       "punjabibagh                    37\n",
       "nedumbassery                   37\n",
       "kharghar                       37\n",
       "basavanagudi                   37\n",
       "thopumpady                     37\n",
       "dlfcybercity                   37\n",
       "kothapet                       36\n",
       "pitampura                      36\n",
       "teynampet                      36\n",
       "miyapur                        36\n",
       "jalahalli                      36\n",
       "tambaram                       36\n",
       "uttamnagar                     36\n",
       "rajajinagar                    36\n",
       "srnagar                        35\n",
       "thevera                        35\n",
       "malviyanagar                   34\n",
       "saket                          34\n",
       "frazertown                     34\n",
       "ernakulam                      34\n",
       "gopalapuram                    34\n",
       "thiruvanmiyur                  33\n",
       "saroornagar                    33\n",
       "palihill                       33\n",
       "perambur                       33\n",
       "kolathur                       33\n",
       "purasavakkam                   33\n",
       "lbnagar                        32\n",
       "habsiguda                      32\n",
       "dadar                          32\n",
       "vasantkunj                     32\n",
       "ulsoor                         31\n",
       "asraonagar                     31\n",
       "yelahanka                      31\n",
       "kompally                       31\n",
       "matunga                        31\n",
       "karapakkam                     30\n",
       "mahabalipuram                  30\n",
       "paschimvihar                   30\n",
       "selaiyur                       30\n",
       "mahakali                       30\n",
       "kammanahalli                   30\n",
       "guindy                         29\n",
       "malakpet                       29\n",
       "vikaspuri                      29\n",
       "chennai                        29\n",
       "sector15                       29\n",
       "residencyroad                  29\n",
       "mahim                          29\n",
       "hennur                         29\n",
       "worli                          29\n",
       "airoli                         29\n",
       "sdroad                         28\n",
       "chittoorroad                   28\n",
       "kamlanagar                     28\n",
       "madipakkam                     28\n",
       "karolbagh                      28\n",
       "banaswadi                      28\n",
       "filmnagar                      28\n",
       "pallavaram                     27\n",
       "nituniversity                  27\n",
       "kumaraswamylayout              27\n",
       "somajiguda                     27\n",
       "bowenpally                     26\n",
       "triplicane                     26\n",
       "chullickal                     26\n",
       "kalkaji                        26\n",
       "nagawara                       26\n",
       "nampally                       26\n",
       "oldairportroad                 25\n",
       "bhayandar                      25\n",
       "vennala                        25\n",
       "hyderabad                      25\n",
       "churchstreet                   25\n",
       "lavelleroad                    25\n",
       "sion                           24\n",
       "nerul                          24\n",
       "shahdara                       24\n",
       "panjagutta                     24\n",
       "aminijikarai                   24\n",
       "choolaimedu                    24\n",
       "nizampet                       23\n",
       "kurla                          23\n",
       "lakdikapul                     23\n",
       "satyaniketan                   23\n",
       "chengalpattu                   23\n",
       "vanasthalipuram                23\n",
       "attapur                        23\n",
       "valasaravakkam                 22\n",
       "jogeshwari                     22\n",
       "sector49                       22\n",
       "aerocity                       22\n",
       "vepery                         22\n",
       "krishnanagar                   22\n",
       "virar                          22\n",
       "masabtank                      22\n",
       "linkingroad                    22\n",
       "willingdonisland               22\n",
       "kknagar                        22\n",
       "sushantlok                     21\n",
       "westmambalam                   21\n",
       "krpuram                        21\n",
       "nagarbhavi                     21\n",
       "laxminagar                     21\n",
       "brigaderoad                    21\n",
       "amberpet                       21\n",
       "pgroad                         21\n",
       "ecil                           21\n",
       "sakinaka                       20\n",
       "charminar                      20\n",
       "girgaum                        20\n",
       "motinagar                      20\n",
       "sector62                       20\n",
       "marredpally                    20\n",
       "egatoor                        19\n",
       "panchpakhadi                   19\n",
       "sahakaranagar                  19\n",
       "kacheguda                      19\n",
       "alwal                          19\n",
       "chetpet                        19\n",
       "netajisubhashplace             19\n",
       "poonamalle                     19\n",
       "yeshwantpur                    19\n",
       "chanakyapuri                   19\n",
       "kalyan                         19\n",
       "defencecolony                  19\n",
       "jeedimetla                     19\n",
       "chowpatty                      19\n",
       "thousandlights                 19\n",
       "sector31                       19\n",
       "dadarshivajipark               19\n",
       "chandanagar                    19\n",
       "taramani                       19\n",
       "rapuram                        19\n",
       "adambakkam                     18\n",
       "churchgate                     18\n",
       "kotikoti                       18\n",
       "sector37                       18\n",
       "neelangarai                    18\n",
       "jeevanbhimanagar               18\n",
       "nallakunta                     18\n",
       "ravipuram                      18\n",
       "sector14                       17\n",
       "dahisar                        17\n",
       "pallikaranai                   17\n",
       "nearsector72                   17\n",
       "basaveshwaranagar              17\n",
       "eastofkailash                  17\n",
       "nacharam                       17\n",
       "angamali                       17\n",
       "cbd-belapur                    17\n",
       "charniroad                     17\n",
       "sohnaroad                      17\n",
       "vasantvihar                    17\n",
       "karkardooma                    17\n",
       "srinagarcolony                 16\n",
       "nanganallur                    16\n",
       "veeradesaiarea                 16\n",
       "elamakkara                     16\n",
       "georgetown                     16\n",
       "kanakapuraroad                 16\n",
       "richmondroad                   16\n",
       "kaggadasapura                  16\n",
       "khanmarket                     16\n",
       "perumbavoor                    16\n",
       "maduravoyal                    16\n",
       "oshiwara                       16\n",
       "hebbal                         15\n",
       "cunninghamroad                 15\n",
       "parelparel                     15\n",
       "naupada                        15\n",
       "4bungalows                     15\n",
       "domlur                         15\n",
       "hauzkhas                       15\n",
       "byculla                        15\n",
       "karkhana                       15\n",
       "basheerbagh                    15\n",
       "seshadripuram                  15\n",
       "avadi                          15\n",
       "oldrailwayroad                 15\n",
       "sector7                        14\n",
       "kirtinagar                     14\n",
       "safdarjung                     14\n",
       "tilaknagar                     14\n",
       "rajnagar                       14\n",
       "azadnagar                      14\n",
       "medchalroad                    14\n",
       "narayanguda                    14\n",
       "rajindernagar                  14\n",
       "bommanahalli                   14\n",
       "hauzkhasvillage                14\n",
       "malkajgiri                     14\n",
       "yousufguda                     13\n",
       "washermenpet                   13\n",
       "chittaranjanpark               13\n",
       "jailroad                       13\n",
       "southcity2                     13\n",
       "mohammadaliroad                13\n",
       "nehruplace                     13\n",
       "saidapet                       13\n",
       "grantroad                      13\n",
       "tarnaka                        13\n",
       "sector63                       13\n",
       "semmancheri                    13\n",
       "sda                            13\n",
       "hillroad                       13\n",
       "tardeo                         13\n",
       "moosapet                       13\n",
       "adikmet                        12\n",
       "sector16                       12\n",
       "bhandup                        12\n",
       "newfriendscolony               12\n",
       "cvramannagar                   12\n",
       "saligramam                     12\n",
       "padmaraonagar                  12\n",
       "sector45                       12\n",
       "racecourseroad                 12\n",
       "greenpark                      12\n",
       "sector22                       12\n",
       "hafeezpet                      12\n",
       "kanchipuramdistrict            12\n",
       "majestic                       12\n",
       "virugambakkam                  12\n",
       "internationalairport           12\n",
       "dlfphase1                      12\n",
       "oldmahabalipuramroad(omr)      12\n",
       "sanpada                        11\n",
       "koparkhairane                  11\n",
       "ashokviharphase2               11\n",
       "westpatelnagar                 11\n",
       "stthomasmount                  11\n",
       "gaurcity1                      11\n",
       "janpath                        11\n",
       "vypin                          11\n",
       "paradisecircle                 11\n",
       "khairatabad                    11\n",
       "royapuram                      11\n",
       "stmarksroad                    11\n",
       "nandanam                       11\n",
       "paharganj                      11\n",
       "shamshabad                     11\n",
       "sector38                       11\n",
       "padur                          11\n",
       "7bungalows                     11\n",
       "sector12                       11\n",
       "crossingrepublik               11\n",
       "arumbakkam                     11\n",
       "sowcarpet                      11\n",
       "anandvihar                     10\n",
       "ipextension                    10\n",
       "nalasopara                     10\n",
       "shantinagar                    10\n",
       "chandnichowk                   10\n",
       "kotturpuram                    10\n",
       "rammurthynagar                 10\n",
       "mazgaon                        10\n",
       "mayurviharphase1               10\n",
       "shalimarbagh                   10\n",
       "kothaguda                      10\n",
       "parktown                       10\n",
       "versova                        10\n",
       "narimanpoint                   10\n",
       "injambakkam                    10\n",
       "vikhroli                       10\n",
       "gandipet                        9\n",
       "nearsector110                   9\n",
       "mumbai                          9\n",
       "langerhouz                      9\n",
       "lodhicolony                     9\n",
       "falaknuma                       9\n",
       "seawoods                        9\n",
       "shamirpet                       9\n",
       "mysoreroad                      9\n",
       "mrcnagar                        9\n",
       "musheerabad                     9\n",
       "vaishali                        9\n",
       "mukherjeenagar                  9\n",
       "vandalur                        9\n",
       "sanjaynagar                     9\n",
       "sproad                          9\n",
       "shakarpur                       9\n",
       "chhatarpur                      9\n",
       "ekkaduthangal                   9\n",
       "subhashnagar                    9\n",
       "preetvihar                      9\n",
       "necklaceroad                    9\n",
       "geetacolony                     9\n",
       "trimulgherry                    9\n",
       "shahpurjat                      9\n",
       "ghodbunderroad                  8\n",
       "mumbaicstarea                   8\n",
       "akkarai                         8\n",
       "sector26                        8\n",
       "sector83                        8\n",
       "ghansibazaar                    8\n",
       "nagole                          8\n",
       "bengaluru                       8\n",
       "railwaystationroad              8\n",
       "modeltown2                      8\n",
       "oldmadrasroad                   8\n",
       "kottivakkam                     8\n",
       "kalbadevi                       8\n",
       "hbrlayout                       8\n",
       "kailashcolony                   8\n",
       "kelambakkam                     8\n",
       "ashokviharphase1                8\n",
       "khelgaonmarg                    8\n",
       "dlfphase2                       8\n",
       "jangpura                        8\n",
       "greaternoida                    7\n",
       "mehrauli                        7\n",
       "balanagar                       7\n",
       "sector72                        7\n",
       "prabhadevi                      7\n",
       "tagoregarden                    7\n",
       "reclamation                     7\n",
       "shenoynagar                     7\n",
       "gamma1                          7\n",
       "breachcandy                     7\n",
       "kanathur                        7\n",
       "amarcolony                      7\n",
       "chandrayanagutta                7\n",
       "sector19                        7\n",
       "sainikfarms                     7\n",
       "manpada                         7\n",
       "suraram                         7\n",
       "eastpatelnagar                  7\n",
       "thippasandra                    7\n",
       "mayurviharphase2                7\n",
       "prashantvihar                   7\n",
       "adchini                         7\n",
       "nearsector50                    7\n",
       "begumbazaar                     7\n",
       "newdelhi                        7\n",
       "sector43                        7\n",
       "kamothe                         7\n",
       "jamamasjid                      7\n",
       "sector56                        7\n",
       "sadashivnagar                   7\n",
       "vasundhara                      7\n",
       "gujranwalatown                  7\n",
       "chandivali                      7\n",
       "sahibabad                       6\n",
       "kempscorner                     6\n",
       "jasola                          6\n",
       "sector135                       6\n",
       "mahalaxmi                       6\n",
       "sector10                        6\n",
       "kovalam                         6\n",
       "ulhasnagar                      6\n",
       "vivekvihar                      6\n",
       "ramanthapur                     6\n",
       "khopat                          6\n",
       "kengeri                         6\n",
       "wilsongarden                    6\n",
       "cuffeparade                     6\n",
       "koyambedu                       6\n",
       "newpanvel                       6\n",
       "mahipalpur                      6\n",
       "pandararoadmarket               6\n",
       "majnukatila                     6\n",
       "sector53                        6\n",
       "sector110                       6\n",
       "mayapuriphase2                  6\n",
       "citymarket                      6\n",
       "secunderabad                    6\n",
       "alandur                         6\n",
       "munirka                         6\n",
       "palaceroad                      6\n",
       "chandernagar                    6\n",
       "marinelines                     6\n",
       "yusufsarai                      6\n",
       "Name: LOCALITY, dtype: int64"
      ]
     },
     "execution_count": 246,
     "metadata": {},
     "output_type": "execute_result"
    }
   ],
   "source": [
    "df['LOCALITY'].value_counts()"
   ]
  },
  {
   "cell_type": "code",
   "execution_count": 247,
   "metadata": {},
   "outputs": [],
   "source": [
    "# y = df_train['COST'].values\n",
    "# df = pd.concat([df_train.drop(columns=['COST']), df_val])\n",
    "# df.shape"
   ]
  },
  {
   "cell_type": "code",
   "execution_count": 248,
   "metadata": {},
   "outputs": [
    {
     "data": {
      "text/plain": [
       "1606"
      ]
     },
     "execution_count": 248,
     "metadata": {},
     "output_type": "execute_result"
    }
   ],
   "source": [
    "#Substitute using TITLE or CITY\n",
    "df.RATING = df.RATING.replace(\"NEW\",np.nan)\n",
    "df.RATING = df.RATING.replace(\"-\",np.nan)\n",
    "df.RATING = df.RATING.astype('float')\n",
    "df.RATING.isnull().sum()"
   ]
  },
  {
   "cell_type": "code",
   "execution_count": 249,
   "metadata": {},
   "outputs": [
    {
     "data": {
      "text/plain": [
       "1606"
      ]
     },
     "execution_count": 249,
     "metadata": {},
     "output_type": "execute_result"
    }
   ],
   "source": [
    "df.VOTES = df.VOTES.str.replace(\" votes\",\"\")\n",
    "df.VOTES = df.VOTES.astype('float')\n",
    "df.VOTES.isnull().sum()"
   ]
  },
  {
   "cell_type": "code",
   "execution_count": 250,
   "metadata": {},
   "outputs": [],
   "source": [
    "# Filling missing values using groupby mean values of each city and locality\n",
    "df.RATING.fillna(df.groupby(['CITY','LOCALITY'])['RATING'].transform('mean'), inplace=True)\n",
    "df.VOTES.fillna(df.groupby(['CITY','LOCALITY'])['VOTES'].transform('mean'), inplace=True)\n",
    "df.RATING.fillna(df.RATING.mean(), inplace=True)\n",
    "df.VOTES.fillna(df.VOTES.mean(), inplace=True)"
   ]
  },
  {
   "cell_type": "code",
   "execution_count": 251,
   "metadata": {},
   "outputs": [],
   "source": [
    "df['sum_rating'] = df['RATING']*df['VOTES']"
   ]
  },
  {
   "cell_type": "code",
   "execution_count": 252,
   "metadata": {},
   "outputs": [],
   "source": [
    "df.drop(columns=['TITLE', 'RESTAURANT_ID', 'CUISINES', 'TIME', 'LOCALITY'], inplace=True)"
   ]
  },
  {
   "cell_type": "code",
   "execution_count": 253,
   "metadata": {},
   "outputs": [
    {
     "data": {
      "text/plain": [
       "(16921, 240)"
      ]
     },
     "execution_count": 253,
     "metadata": {},
     "output_type": "execute_result"
    }
   ],
   "source": [
    "df_dummies = pd.get_dummies(df)\n",
    "df_dummies.shape"
   ]
  },
  {
   "cell_type": "code",
   "execution_count": 254,
   "metadata": {},
   "outputs": [],
   "source": [
    "df_dummies_train = df_dummies[:ntrain]\n",
    "df_dummies_test = df_dummies[ntrain:]"
   ]
  },
  {
   "cell_type": "markdown",
   "metadata": {},
   "source": [
    "# Modelling"
   ]
  },
  {
   "cell_type": "code",
   "execution_count": 255,
   "metadata": {},
   "outputs": [],
   "source": [
    "from sklearn.model_selection import KFold, cross_val_score\n",
    "from sklearn.linear_model import Ridge, ElasticNet, Lasso\n",
    "from sklearn.pipeline import make_pipeline\n",
    "#Validation function\n",
    "n_folds = 5\n",
    "\n",
    "def rmsle_cv(model):\n",
    "    kf = KFold(n_folds, shuffle=True, random_state=42).get_n_splits(df_dummies_train.values)\n",
    "    rmse= np.sqrt(-cross_val_score(model, df_dummies_train.values, y.ravel(), scoring=\"neg_mean_squared_error\", cv = kf))\n",
    "    return(rmse)"
   ]
  },
  {
   "cell_type": "markdown",
   "metadata": {},
   "source": [
    "# Lasso"
   ]
  },
  {
   "cell_type": "code",
   "execution_count": 63,
   "metadata": {},
   "outputs": [
    {
     "name": "stdout",
     "output_type": "stream",
     "text": [
      "\n",
      "Lasso score: 350.6892 (27.7813)\n",
      "\n"
     ]
    }
   ],
   "source": [
    "from sklearn.preprocessing import MinMaxScaler, StandardScaler\n",
    "lasso = make_pipeline(StandardScaler(), Lasso(alpha =0.0005, random_state=1, max_iter=5000))\n",
    "score = rmsle_cv(lasso)\n",
    "print(\"\\nLasso score: {:.4f} ({:.4f})\\n\".format(score.mean(), score.std()))"
   ]
  },
  {
   "cell_type": "markdown",
   "metadata": {},
   "source": [
    "# Elastic Net"
   ]
  },
  {
   "cell_type": "code",
   "execution_count": 64,
   "metadata": {},
   "outputs": [
    {
     "name": "stdout",
     "output_type": "stream",
     "text": [
      "ElasticNet score: 350.6877 (27.7870)\n",
      "\n"
     ]
    }
   ],
   "source": [
    "ENet = make_pipeline(StandardScaler(), ElasticNet(alpha=0.0005, l1_ratio=.5, random_state=3, max_iter=5000))\n",
    "score = rmsle_cv(ENet)\n",
    "print(\"ElasticNet score: {:.4f} ({:.4f})\\n\".format(score.mean(), score.std()))"
   ]
  },
  {
   "cell_type": "markdown",
   "metadata": {},
   "source": [
    "# Kernel Ridge"
   ]
  },
  {
   "cell_type": "code",
   "execution_count": 65,
   "metadata": {},
   "outputs": [
    {
     "name": "stdout",
     "output_type": "stream",
     "text": [
      "Kernel Ridge score: 330.1802 (31.4241)\n",
      "\n"
     ]
    }
   ],
   "source": [
    "from sklearn.kernel_ridge import KernelRidge\n",
    "KRR = make_pipeline(StandardScaler(), KernelRidge(alpha=0.6, kernel='polynomial', degree=2, coef0=2.5))\n",
    "score = rmsle_cv(KRR)\n",
    "print(\"Kernel Ridge score: {:.4f} ({:.4f})\\n\".format(score.mean(), score.std()))"
   ]
  },
  {
   "cell_type": "markdown",
   "metadata": {},
   "source": [
    "# Random Forest"
   ]
  },
  {
   "cell_type": "code",
   "execution_count": 67,
   "metadata": {},
   "outputs": [
    {
     "name": "stdout",
     "output_type": "stream",
     "text": [
      "Random Forest score: 320.8467 (38.3312)\n",
      "\n"
     ]
    }
   ],
   "source": [
    "from sklearn.ensemble import RandomForestRegressor\n",
    "rf = RandomForestRegressor(n_estimators=2000, n_jobs=-1)\n",
    "score = rmsle_cv(rf)\n",
    "print(\"Random Forest score: {:.4f} ({:.4f})\\n\".format(score.mean(), score.std()))"
   ]
  },
  {
   "cell_type": "code",
   "execution_count": 256,
   "metadata": {},
   "outputs": [
    {
     "name": "stdout",
     "output_type": "stream",
     "text": [
      "Random Forest score: 318.8944 (37.9215)\n",
      "\n"
     ]
    }
   ],
   "source": [
    "from sklearn.ensemble import RandomForestRegressor\n",
    "rf = RandomForestRegressor(n_estimators=2000, n_jobs=-1)\n",
    "score = rmsle_cv(rf)\n",
    "print(\"Random Forest score: {:.4f} ({:.4f})\\n\".format(score.mean(), score.std()))"
   ]
  },
  {
   "cell_type": "code",
   "execution_count": 70,
   "metadata": {},
   "outputs": [
    {
     "data": {
      "image/png": "[encoded data removed]",
      "text/plain": [
       "<Figure size 1440x720 with 1 Axes>"
      ]
     },
     "metadata": {
      "needs_background": "light"
     },
     "output_type": "display_data"
    }
   ],
   "source": [
    "rf.fit(df_dummies_train, y.ravel())\n",
    "# Output feature importance coefficients, map them to their feature name, and sort values\n",
    "coef = pd.Series(rf.feature_importances_, index = df_dummies_train.columns).sort_values(ascending=False)\n",
    "\n",
    "plt.figure(figsize=(20, 10))\n",
    "coef.head(25).plot(kind='bar')\n",
    "plt.title('Feature Significance')\n",
    "plt.tight_layout()"
   ]
  },
  {
   "cell_type": "code",
   "execution_count": 257,
   "metadata": {},
   "outputs": [
    {
     "data": {
      "image/png": "[encoded data removed]",
      "text/plain": [
       "<Figure size 1440x720 with 1 Axes>"
      ]
     },
     "metadata": {
      "needs_background": "light"
     },
     "output_type": "display_data"
    }
   ],
   "source": [
    "rf.fit(df_dummies_train, y.ravel())\n",
    "# Output feature importance coefficients, map them to their feature name, and sort values\n",
    "coef = pd.Series(rf.feature_importances_, index = df_dummies_train.columns).sort_values(ascending=False)\n",
    "\n",
    "plt.figure(figsize=(20, 10))\n",
    "coef.head(25).plot(kind='bar')\n",
    "plt.title('Feature Significance')\n",
    "plt.tight_layout()"
   ]
  },
  {
   "cell_type": "markdown",
   "metadata": {},
   "source": [
    "# XGBoost"
   ]
  },
  {
   "cell_type": "code",
   "execution_count": 83,
   "metadata": {},
   "outputs": [],
   "source": [
    "import xgboost as xgb\n",
    "model_xgb = xgb.XGBRegressor(learning_rate =0.05,\n",
    "        n_estimators=5000,\n",
    "        max_depth=5,\n",
    "        min_child_weight=1,\n",
    "        gamma=0,\n",
    "        subsample=0.99,\n",
    "        colsample_bytree=0.5,\n",
    "        reg_alpha=1,\n",
    "        nthread=4,\n",
    "        scale_pos_weight=1,\n",
    "        seed=27)"
   ]
  },
  {
   "cell_type": "code",
   "execution_count": 84,
   "metadata": {},
   "outputs": [
    {
     "name": "stdout",
     "output_type": "stream",
     "text": [
      "Xgboost score: 327.0732 (34.9732)\n",
      "\n"
     ]
    }
   ],
   "source": [
    "score = rmsle_cv(model_xgb)\n",
    "print(\"Xgboost score: {:.4f} ({:.4f})\\n\".format(score.mean(), score.std()))"
   ]
  },
  {
   "cell_type": "code",
   "execution_count": 258,
   "metadata": {},
   "outputs": [
    {
     "name": "stdout",
     "output_type": "stream",
     "text": [
      "Xgboost score: 322.6303 (36.4569)\n",
      "\n"
     ]
    }
   ],
   "source": [
    "score = rmsle_cv(model_xgb)\n",
    "print(\"Xgboost score: {:.4f} ({:.4f})\\n\".format(score.mean(), score.std()))"
   ]
  },
  {
   "cell_type": "code",
   "execution_count": 85,
   "metadata": {},
   "outputs": [
    {
     "data": {
      "image/png": "[encoded data removed]",
      "text/plain": [
       "<Figure size 1440x720 with 1 Axes>"
      ]
     },
     "metadata": {
      "needs_background": "light"
     },
     "output_type": "display_data"
    }
   ],
   "source": [
    "model_xgb.fit(df_dummies_train, y.ravel())\n",
    "# Output feature importance coefficients, map them to their feature name, and sort values\n",
    "coef = pd.Series(model_xgb.feature_importances_, index = df_dummies_train.columns).sort_values(ascending=False)\n",
    "\n",
    "plt.figure(figsize=(20, 10))\n",
    "coef.head(25).plot(kind='bar')\n",
    "plt.title('Feature Significance')\n",
    "plt.tight_layout()"
   ]
  },
  {
   "cell_type": "code",
   "execution_count": 259,
   "metadata": {},
   "outputs": [
    {
     "data": {
      "image/png": "[encoded data removed]",
      "text/plain": [
       "<Figure size 1440x720 with 1 Axes>"
      ]
     },
     "metadata": {
      "needs_background": "light"
     },
     "output_type": "display_data"
    }
   ],
   "source": [
    "model_xgb.fit(df_dummies_train, y.ravel())\n",
    "# Output feature importance coefficients, map them to their feature name, and sort values\n",
    "coef = pd.Series(model_xgb.feature_importances_, index = df_dummies_train.columns).sort_values(ascending=False)\n",
    "\n",
    "plt.figure(figsize=(20, 10))\n",
    "coef.head(25).plot(kind='bar')\n",
    "plt.title('Feature Significance')\n",
    "plt.tight_layout()"
   ]
  },
  {
   "cell_type": "markdown",
   "metadata": {},
   "source": [
    "# Output\n",
    "I used stackedCVRegressor of LightGBM, Gradient Boosting, Random Forest and XGBoost to train on my final dataset."
   ]
  },
  {
   "cell_type": "code",
   "execution_count": 60,
   "metadata": {},
   "outputs": [],
   "source": [
    "y_pred = xgb1.predict(df_dummies_test)"
   ]
  },
  {
   "cell_type": "code",
   "execution_count": 61,
   "metadata": {},
   "outputs": [
    {
     "data": {
      "text/html": [
       "<div>\n",
       "<style scoped>\n",
       "    .dataframe tbody tr th:only-of-type {\n",
       "        vertical-align: middle;\n",
       "    }\n",
       "\n",
       "    .dataframe tbody tr th {\n",
       "        vertical-align: top;\n",
       "    }\n",
       "\n",
       "    .dataframe thead th {\n",
       "        text-align: right;\n",
       "    }\n",
       "</style>\n",
       "<table border=\"1\" class=\"dataframe\">\n",
       "  <thead>\n",
       "    <tr style=\"text-align: right;\">\n",
       "      <th></th>\n",
       "      <th>COST</th>\n",
       "    </tr>\n",
       "  </thead>\n",
       "  <tbody>\n",
       "    <tr>\n",
       "      <th>0</th>\n",
       "      <td>965.323425</td>\n",
       "    </tr>\n",
       "    <tr>\n",
       "      <th>1</th>\n",
       "      <td>371.976257</td>\n",
       "    </tr>\n",
       "    <tr>\n",
       "      <th>2</th>\n",
       "      <td>688.914062</td>\n",
       "    </tr>\n",
       "    <tr>\n",
       "      <th>3</th>\n",
       "      <td>294.791321</td>\n",
       "    </tr>\n",
       "    <tr>\n",
       "      <th>4</th>\n",
       "      <td>256.089417</td>\n",
       "    </tr>\n",
       "  </tbody>\n",
       "</table>\n",
       "</div>"
      ],
      "text/plain": [
       "         COST\n",
       "0  965.323425\n",
       "1  371.976257\n",
       "2  688.914062\n",
       "3  294.791321\n",
       "4  256.089417"
      ]
     },
     "execution_count": 61,
     "metadata": {},
     "output_type": "execute_result"
    }
   ],
   "source": [
    "res = pd.DataFrame(y_pred, columns=['COST'])\n",
    "res.to_excel(\"output.xlsx\", index=False)\n",
    "res.head()"
   ]
  },
  {
   "cell_type": "markdown",
   "metadata": {},
   "source": [
    "# Hyperparameter tuning"
   ]
  },
  {
   "cell_type": "code",
   "execution_count": 96,
   "metadata": {},
   "outputs": [
    {
     "data": {
      "text/plain": [
       "({'max_depth': 5, 'min_child_weight': 1}, -101071.45722846888)"
      ]
     },
     "execution_count": 96,
     "metadata": {},
     "output_type": "execute_result"
    }
   ],
   "source": [
    "from sklearn.model_selection import GridSearchCV\n",
    "param_test1 = {\n",
    "    'max_depth':range(3,10,2),\n",
    "    'min_child_weight':range(1,6,2)\n",
    "}\n",
    "gsearch1 = GridSearchCV(estimator = XGBRegressor( learning_rate =0.1, n_estimators=140, max_depth=5,\n",
    "                                        min_child_weight=1, gamma=0, subsample=0.8, colsample_bytree=0.8,\n",
    "                                        nthread=4, scale_pos_weight=1, seed=27), \n",
    "                                        param_grid = param_test1, scoring='neg_mean_squared_error',n_jobs=4,iid=False, cv=5)\n",
    "gsearch1.fit(df_dummies_train,y)\n",
    "gsearch1.best_params_, gsearch1.best_score_"
   ]
  },
  {
   "cell_type": "code",
   "execution_count": 97,
   "metadata": {},
   "outputs": [
    {
     "data": {
      "text/plain": [
       "({'gamma': 0.0}, -101071.45722846888)"
      ]
     },
     "execution_count": 97,
     "metadata": {},
     "output_type": "execute_result"
    }
   ],
   "source": [
    "param_test1 = {\n",
    "    'gamma':[i/10.0 for i in range(0,5)]\n",
    "}\n",
    "gsearch1 = GridSearchCV(estimator = XGBRegressor( learning_rate =0.1, n_estimators=140, max_depth=5,\n",
    "                                        min_child_weight=1, gamma=0, subsample=0.8, colsample_bytree=0.8,\n",
    "                                        nthread=4, scale_pos_weight=1, seed=27), \n",
    "                                        param_grid = param_test1,n_jobs=4,iid=False, cv=5, scoring='neg_mean_squared_error')\n",
    "gsearch1.fit(df_dummies_train,y)\n",
    "gsearch1.best_params_, gsearch1.best_score_"
   ]
  },
  {
   "cell_type": "code",
   "execution_count": 104,
   "metadata": {},
   "outputs": [
    {
     "data": {
      "text/plain": [
       "({'colsample_bytree': 0.5}, -98765.82815135036)"
      ]
     },
     "execution_count": 104,
     "metadata": {},
     "output_type": "execute_result"
    }
   ],
   "source": [
    "param_test1 = {\n",
    "    'colsample_bytree':[i/100.0 for i in range(50,55,2)]\n",
    "}\n",
    "gsearch1 = GridSearchCV(estimator = XGBRegressor( learning_rate =0.1, n_estimators=140, max_depth=5,\n",
    "                                        min_child_weight=1, gamma=0, subsample=0.99, colsample_bytree=0.8,\n",
    "                                        nthread=4, scale_pos_weight=1, seed=27), \n",
    "                                        param_grid = param_test1,n_jobs=4,iid=False, cv=5, scoring='neg_mean_squared_error')\n",
    "gsearch1.fit(df_dummies_train,y)\n",
    "gsearch1.best_params_, gsearch1.best_score_"
   ]
  },
  {
   "cell_type": "code",
   "execution_count": 109,
   "metadata": {},
   "outputs": [
    {
     "data": {
      "text/plain": [
       "({'reg_alpha': 1}, -98604.5050531101)"
      ]
     },
     "execution_count": 109,
     "metadata": {},
     "output_type": "execute_result"
    }
   ],
   "source": [
    "param_test1 = {\n",
    "    'reg_alpha':[0.5, 1, 5]\n",
    "}\n",
    "gsearch1 = GridSearchCV(estimator = XGBRegressor( learning_rate =0.1, n_estimators=140, max_depth=5,\n",
    "                                        min_child_weight=1, gamma=0, subsample=0.99, colsample_bytree=0.5,\n",
    "                                        nthread=4, scale_pos_weight=1, seed=27), \n",
    "                                        param_grid = param_test1,n_jobs=4,iid=False, cv=5, scoring='neg_mean_squared_error')\n",
    "gsearch1.fit(df_dummies_train,y)\n",
    "gsearch1.best_params_, gsearch1.best_score_"
   ]
  }
 ],
 "metadata": {
  "kernelspec": {
   "display_name": "Python 3",
   "language": "python",
   "name": "python3"
  },
  "language_info": {
   "codemirror_mode": {
    "name": "ipython",
    "version": 3
   },
   "file_extension": ".py",
   "mimetype": "text/x-python",
   "name": "python",
   "nbconvert_exporter": "python",
   "pygments_lexer": "ipython3",
   "version": "3.7.3"
  }
 },
 "nbformat": 4,
 "nbformat_minor": 2
}
