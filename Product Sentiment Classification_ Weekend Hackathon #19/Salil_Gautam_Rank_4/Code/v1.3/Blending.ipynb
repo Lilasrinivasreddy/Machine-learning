{
 "cells": [
  {
   "cell_type": "code",
   "execution_count": 1,
   "metadata": {},
   "outputs": [],
   "source": [
    "import pandas as pd\n",
    "import numpy as np"
   ]
  },
  {
   "cell_type": "code",
   "execution_count": 2,
   "metadata": {},
   "outputs": [],
   "source": [
    "s1 = pd.read_csv(\"../v0.3/Sub_v0.3.csv\")\n",
    "s2 = pd.read_csv(\"../v1.1/Sub_v1.1.csv\")\n",
    "s3 = pd.read_csv(\"../v0.4/Sub_v0.4.csv\")"
   ]
  },
  {
   "cell_type": "code",
   "execution_count": 3,
   "metadata": {},
   "outputs": [
    {
     "data": {
      "text/html": [
       "<div>\n",
       "<style scoped>\n",
       "    .dataframe tbody tr th:only-of-type {\n",
       "        vertical-align: middle;\n",
       "    }\n",
       "\n",
       "    .dataframe tbody tr th {\n",
       "        vertical-align: top;\n",
       "    }\n",
       "\n",
       "    .dataframe thead th {\n",
       "        text-align: right;\n",
       "    }\n",
       "</style>\n",
       "<table border=\"1\" class=\"dataframe\">\n",
       "  <thead>\n",
       "    <tr style=\"text-align: right;\">\n",
       "      <th></th>\n",
       "      <th>0</th>\n",
       "      <th>1</th>\n",
       "      <th>2</th>\n",
       "      <th>3</th>\n",
       "    </tr>\n",
       "  </thead>\n",
       "  <tbody>\n",
       "    <tr>\n",
       "      <th>0</th>\n",
       "      <td>0.006008</td>\n",
       "      <td>0.006244</td>\n",
       "      <td>0.711419</td>\n",
       "      <td>0.276329</td>\n",
       "    </tr>\n",
       "    <tr>\n",
       "      <th>1</th>\n",
       "      <td>0.016405</td>\n",
       "      <td>0.023132</td>\n",
       "      <td>0.928492</td>\n",
       "      <td>0.031971</td>\n",
       "    </tr>\n",
       "    <tr>\n",
       "      <th>2</th>\n",
       "      <td>0.014886</td>\n",
       "      <td>0.065645</td>\n",
       "      <td>0.354355</td>\n",
       "      <td>0.565115</td>\n",
       "    </tr>\n",
       "  </tbody>\n",
       "</table>\n",
       "</div>"
      ],
      "text/plain": [
       "          0         1         2         3\n",
       "0  0.006008  0.006244  0.711419  0.276329\n",
       "1  0.016405  0.023132  0.928492  0.031971\n",
       "2  0.014886  0.065645  0.354355  0.565115"
      ]
     },
     "execution_count": 3,
     "metadata": {},
     "output_type": "execute_result"
    }
   ],
   "source": [
    "s1.head(3)"
   ]
  },
  {
   "cell_type": "code",
   "execution_count": 4,
   "metadata": {},
   "outputs": [],
   "source": [
    "samp = (s1 * 0.2 + s2 * 0.8) * 0.6 + s3 * 0.4"
   ]
  },
  {
   "cell_type": "code",
   "execution_count": 5,
   "metadata": {},
   "outputs": [
    {
     "data": {
      "text/html": [
       "<div>\n",
       "<style scoped>\n",
       "    .dataframe tbody tr th:only-of-type {\n",
       "        vertical-align: middle;\n",
       "    }\n",
       "\n",
       "    .dataframe tbody tr th {\n",
       "        vertical-align: top;\n",
       "    }\n",
       "\n",
       "    .dataframe thead th {\n",
       "        text-align: right;\n",
       "    }\n",
       "</style>\n",
       "<table border=\"1\" class=\"dataframe\">\n",
       "  <thead>\n",
       "    <tr style=\"text-align: right;\">\n",
       "      <th></th>\n",
       "      <th>0</th>\n",
       "      <th>1</th>\n",
       "      <th>2</th>\n",
       "      <th>3</th>\n",
       "    </tr>\n",
       "  </thead>\n",
       "  <tbody>\n",
       "    <tr>\n",
       "      <th>0</th>\n",
       "      <td>0.001971</td>\n",
       "      <td>0.017812</td>\n",
       "      <td>0.099328</td>\n",
       "      <td>0.880889</td>\n",
       "    </tr>\n",
       "    <tr>\n",
       "      <th>1</th>\n",
       "      <td>0.009115</td>\n",
       "      <td>0.008383</td>\n",
       "      <td>0.942316</td>\n",
       "      <td>0.040186</td>\n",
       "    </tr>\n",
       "    <tr>\n",
       "      <th>2</th>\n",
       "      <td>0.016736</td>\n",
       "      <td>0.013714</td>\n",
       "      <td>0.824655</td>\n",
       "      <td>0.144895</td>\n",
       "    </tr>\n",
       "    <tr>\n",
       "      <th>3</th>\n",
       "      <td>0.003095</td>\n",
       "      <td>0.018664</td>\n",
       "      <td>0.029281</td>\n",
       "      <td>0.948960</td>\n",
       "    </tr>\n",
       "    <tr>\n",
       "      <th>4</th>\n",
       "      <td>0.007694</td>\n",
       "      <td>0.003615</td>\n",
       "      <td>0.951200</td>\n",
       "      <td>0.037492</td>\n",
       "    </tr>\n",
       "  </tbody>\n",
       "</table>\n",
       "</div>"
      ],
      "text/plain": [
       "          0         1         2         3\n",
       "0  0.001971  0.017812  0.099328  0.880889\n",
       "1  0.009115  0.008383  0.942316  0.040186\n",
       "2  0.016736  0.013714  0.824655  0.144895\n",
       "3  0.003095  0.018664  0.029281  0.948960\n",
       "4  0.007694  0.003615  0.951200  0.037492"
      ]
     },
     "execution_count": 5,
     "metadata": {},
     "output_type": "execute_result"
    }
   ],
   "source": [
    "samp.head()"
   ]
  },
  {
   "cell_type": "code",
   "execution_count": 6,
   "metadata": {},
   "outputs": [],
   "source": [
    "train = pd.read_csv(\"../../Train.csv\")\n",
    "test = pd.read_csv(\"../../Test.csv\")"
   ]
  },
  {
   "cell_type": "code",
   "execution_count": 7,
   "metadata": {},
   "outputs": [
    {
     "data": {
      "text/plain": [
       "Index(['Text_ID', 'Product_Description', 'Product_Type', 'Sentiment'], dtype='object')"
      ]
     },
     "execution_count": 7,
     "metadata": {},
     "output_type": "execute_result"
    }
   ],
   "source": [
    "train.columns"
   ]
  },
  {
   "cell_type": "code",
   "execution_count": 8,
   "metadata": {},
   "outputs": [],
   "source": [
    "test_ids = []\n",
    "force_senti = []\n",
    "for index,row in test.iterrows():\n",
    "    temp = train[train['Product_Description'] == row['Product_Description']]\n",
    "    temp = temp[temp['Product_Type'] == row['Product_Type']]\n",
    "    if temp.shape[0] > 0:\n",
    "        force_senti.append(list(set(temp['Sentiment'].tolist()))[0])\n",
    "        test_ids.append(index)"
   ]
  },
  {
   "cell_type": "code",
   "execution_count": 9,
   "metadata": {},
   "outputs": [],
   "source": [
    "dic = {0:[1,0,0,0],1:[0,1,0,0],2:[0,0,1,0],3:[0,0,0,1]}\n",
    "for x,y in zip(test_ids,force_senti):\n",
    "    #print(s1.iloc[x])\n",
    "    target = dic[y]\n",
    "    samp.iloc[x] = target\n",
    "    #print(s1.iloc[x])"
   ]
  },
  {
   "cell_type": "code",
   "execution_count": 10,
   "metadata": {},
   "outputs": [
    {
     "data": {
      "text/html": [
       "<div>\n",
       "<style scoped>\n",
       "    .dataframe tbody tr th:only-of-type {\n",
       "        vertical-align: middle;\n",
       "    }\n",
       "\n",
       "    .dataframe tbody tr th {\n",
       "        vertical-align: top;\n",
       "    }\n",
       "\n",
       "    .dataframe thead th {\n",
       "        text-align: right;\n",
       "    }\n",
       "</style>\n",
       "<table border=\"1\" class=\"dataframe\">\n",
       "  <thead>\n",
       "    <tr style=\"text-align: right;\">\n",
       "      <th></th>\n",
       "      <th>0</th>\n",
       "      <th>1</th>\n",
       "      <th>2</th>\n",
       "      <th>3</th>\n",
       "    </tr>\n",
       "  </thead>\n",
       "  <tbody>\n",
       "    <tr>\n",
       "      <th>0</th>\n",
       "      <td>0.001971</td>\n",
       "      <td>0.017812</td>\n",
       "      <td>0.099328</td>\n",
       "      <td>0.880889</td>\n",
       "    </tr>\n",
       "    <tr>\n",
       "      <th>1</th>\n",
       "      <td>0.009115</td>\n",
       "      <td>0.008383</td>\n",
       "      <td>0.942316</td>\n",
       "      <td>0.040186</td>\n",
       "    </tr>\n",
       "    <tr>\n",
       "      <th>2</th>\n",
       "      <td>0.016736</td>\n",
       "      <td>0.013714</td>\n",
       "      <td>0.824655</td>\n",
       "      <td>0.144895</td>\n",
       "    </tr>\n",
       "  </tbody>\n",
       "</table>\n",
       "</div>"
      ],
      "text/plain": [
       "          0         1         2         3\n",
       "0  0.001971  0.017812  0.099328  0.880889\n",
       "1  0.009115  0.008383  0.942316  0.040186\n",
       "2  0.016736  0.013714  0.824655  0.144895"
      ]
     },
     "execution_count": 10,
     "metadata": {},
     "output_type": "execute_result"
    }
   ],
   "source": [
    "samp.head(3)"
   ]
  },
  {
   "cell_type": "code",
   "execution_count": 11,
   "metadata": {},
   "outputs": [],
   "source": [
    "samp.to_csv('Sub_v1.3.csv', index=False)"
   ]
  }
 ],
 "metadata": {
  "kernelspec": {
   "display_name": "Python 3",
   "language": "python",
   "name": "python3"
  },
  "language_info": {
   "codemirror_mode": {
    "name": "ipython",
    "version": 3
   },
   "file_extension": ".py",
   "mimetype": "text/x-python",
   "name": "python",
   "nbconvert_exporter": "python",
   "pygments_lexer": "ipython3",
   "version": "3.7.9"
  }
 },
 "nbformat": 4,
 "nbformat_minor": 4
}
