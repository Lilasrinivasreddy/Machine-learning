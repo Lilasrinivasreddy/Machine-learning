{
 "cells": [
  {
   "cell_type": "markdown",
   "metadata": {},
   "source": [
    "# Applying Machine Learning To Loan Data"
   ]
  },
  {
   "cell_type": "code",
   "execution_count": 1,
   "metadata": {
    "collapsed": true
   },
   "outputs": [],
   "source": [
    "import numpy as np\n",
    "import pandas as pd\n",
    "import matplotlib.pyplot as plt\n",
    "import seaborn as sns"
   ]
  },
  {
   "cell_type": "code",
   "execution_count": 2,
   "metadata": {
    "collapsed": false
   },
   "outputs": [
    {
     "name": "stderr",
     "output_type": "stream",
     "text": [
      "//anaconda/lib/python3.5/site-packages/IPython/core/interactiveshell.py:2717: DtypeWarning: Columns (19,55) have mixed types. Specify dtype option on import or set low_memory=False.\n",
      "  interactivity=interactivity, compiler=compiler, result=result)\n"
     ]
    },
    {
     "data": {
      "text/html": [
       "<div>\n",
       "<table border=\"1\" class=\"dataframe\">\n",
       "  <thead>\n",
       "    <tr style=\"text-align: right;\">\n",
       "      <th></th>\n",
       "      <th>id</th>\n",
       "      <th>member_id</th>\n",
       "      <th>loan_amnt</th>\n",
       "      <th>funded_amnt</th>\n",
       "      <th>funded_amnt_inv</th>\n",
       "      <th>term</th>\n",
       "      <th>int_rate</th>\n",
       "      <th>installment</th>\n",
       "      <th>grade</th>\n",
       "      <th>sub_grade</th>\n",
       "      <th>...</th>\n",
       "      <th>total_bal_il</th>\n",
       "      <th>il_util</th>\n",
       "      <th>open_rv_12m</th>\n",
       "      <th>open_rv_24m</th>\n",
       "      <th>max_bal_bc</th>\n",
       "      <th>all_util</th>\n",
       "      <th>total_rev_hi_lim</th>\n",
       "      <th>inq_fi</th>\n",
       "      <th>total_cu_tl</th>\n",
       "      <th>inq_last_12m</th>\n",
       "    </tr>\n",
       "  </thead>\n",
       "  <tbody>\n",
       "    <tr>\n",
       "      <th>0</th>\n",
       "      <td>1077501</td>\n",
       "      <td>1296599</td>\n",
       "      <td>5000.0</td>\n",
       "      <td>5000.0</td>\n",
       "      <td>4975.0</td>\n",
       "      <td>36 months</td>\n",
       "      <td>10.65</td>\n",
       "      <td>162.87</td>\n",
       "      <td>B</td>\n",
       "      <td>B2</td>\n",
       "      <td>...</td>\n",
       "      <td>NaN</td>\n",
       "      <td>NaN</td>\n",
       "      <td>NaN</td>\n",
       "      <td>NaN</td>\n",
       "      <td>NaN</td>\n",
       "      <td>NaN</td>\n",
       "      <td>NaN</td>\n",
       "      <td>NaN</td>\n",
       "      <td>NaN</td>\n",
       "      <td>NaN</td>\n",
       "    </tr>\n",
       "    <tr>\n",
       "      <th>1</th>\n",
       "      <td>1077430</td>\n",
       "      <td>1314167</td>\n",
       "      <td>2500.0</td>\n",
       "      <td>2500.0</td>\n",
       "      <td>2500.0</td>\n",
       "      <td>60 months</td>\n",
       "      <td>15.27</td>\n",
       "      <td>59.83</td>\n",
       "      <td>C</td>\n",
       "      <td>C4</td>\n",
       "      <td>...</td>\n",
       "      <td>NaN</td>\n",
       "      <td>NaN</td>\n",
       "      <td>NaN</td>\n",
       "      <td>NaN</td>\n",
       "      <td>NaN</td>\n",
       "      <td>NaN</td>\n",
       "      <td>NaN</td>\n",
       "      <td>NaN</td>\n",
       "      <td>NaN</td>\n",
       "      <td>NaN</td>\n",
       "    </tr>\n",
       "    <tr>\n",
       "      <th>2</th>\n",
       "      <td>1077175</td>\n",
       "      <td>1313524</td>\n",
       "      <td>2400.0</td>\n",
       "      <td>2400.0</td>\n",
       "      <td>2400.0</td>\n",
       "      <td>36 months</td>\n",
       "      <td>15.96</td>\n",
       "      <td>84.33</td>\n",
       "      <td>C</td>\n",
       "      <td>C5</td>\n",
       "      <td>...</td>\n",
       "      <td>NaN</td>\n",
       "      <td>NaN</td>\n",
       "      <td>NaN</td>\n",
       "      <td>NaN</td>\n",
       "      <td>NaN</td>\n",
       "      <td>NaN</td>\n",
       "      <td>NaN</td>\n",
       "      <td>NaN</td>\n",
       "      <td>NaN</td>\n",
       "      <td>NaN</td>\n",
       "    </tr>\n",
       "    <tr>\n",
       "      <th>3</th>\n",
       "      <td>1076863</td>\n",
       "      <td>1277178</td>\n",
       "      <td>10000.0</td>\n",
       "      <td>10000.0</td>\n",
       "      <td>10000.0</td>\n",
       "      <td>36 months</td>\n",
       "      <td>13.49</td>\n",
       "      <td>339.31</td>\n",
       "      <td>C</td>\n",
       "      <td>C1</td>\n",
       "      <td>...</td>\n",
       "      <td>NaN</td>\n",
       "      <td>NaN</td>\n",
       "      <td>NaN</td>\n",
       "      <td>NaN</td>\n",
       "      <td>NaN</td>\n",
       "      <td>NaN</td>\n",
       "      <td>NaN</td>\n",
       "      <td>NaN</td>\n",
       "      <td>NaN</td>\n",
       "      <td>NaN</td>\n",
       "    </tr>\n",
       "    <tr>\n",
       "      <th>4</th>\n",
       "      <td>1075358</td>\n",
       "      <td>1311748</td>\n",
       "      <td>3000.0</td>\n",
       "      <td>3000.0</td>\n",
       "      <td>3000.0</td>\n",
       "      <td>60 months</td>\n",
       "      <td>12.69</td>\n",
       "      <td>67.79</td>\n",
       "      <td>B</td>\n",
       "      <td>B5</td>\n",
       "      <td>...</td>\n",
       "      <td>NaN</td>\n",
       "      <td>NaN</td>\n",
       "      <td>NaN</td>\n",
       "      <td>NaN</td>\n",
       "      <td>NaN</td>\n",
       "      <td>NaN</td>\n",
       "      <td>NaN</td>\n",
       "      <td>NaN</td>\n",
       "      <td>NaN</td>\n",
       "      <td>NaN</td>\n",
       "    </tr>\n",
       "  </tbody>\n",
       "</table>\n",
       "<p>5 rows × 74 columns</p>\n",
       "</div>"
      ],
      "text/plain": [
       "        id  member_id  loan_amnt  funded_amnt  funded_amnt_inv        term  \\\n",
       "0  1077501    1296599     5000.0       5000.0           4975.0   36 months   \n",
       "1  1077430    1314167     2500.0       2500.0           2500.0   60 months   \n",
       "2  1077175    1313524     2400.0       2400.0           2400.0   36 months   \n",
       "3  1076863    1277178    10000.0      10000.0          10000.0   36 months   \n",
       "4  1075358    1311748     3000.0       3000.0           3000.0   60 months   \n",
       "\n",
       "   int_rate  installment grade sub_grade     ...      total_bal_il il_util  \\\n",
       "0     10.65       162.87     B        B2     ...               NaN     NaN   \n",
       "1     15.27        59.83     C        C4     ...               NaN     NaN   \n",
       "2     15.96        84.33     C        C5     ...               NaN     NaN   \n",
       "3     13.49       339.31     C        C1     ...               NaN     NaN   \n",
       "4     12.69        67.79     B        B5     ...               NaN     NaN   \n",
       "\n",
       "  open_rv_12m  open_rv_24m max_bal_bc all_util total_rev_hi_lim inq_fi  \\\n",
       "0         NaN          NaN        NaN      NaN              NaN    NaN   \n",
       "1         NaN          NaN        NaN      NaN              NaN    NaN   \n",
       "2         NaN          NaN        NaN      NaN              NaN    NaN   \n",
       "3         NaN          NaN        NaN      NaN              NaN    NaN   \n",
       "4         NaN          NaN        NaN      NaN              NaN    NaN   \n",
       "\n",
       "  total_cu_tl inq_last_12m  \n",
       "0         NaN          NaN  \n",
       "1         NaN          NaN  \n",
       "2         NaN          NaN  \n",
       "3         NaN          NaN  \n",
       "4         NaN          NaN  \n",
       "\n",
       "[5 rows x 74 columns]"
      ]
     },
     "execution_count": 2,
     "metadata": {},
     "output_type": "execute_result"
    }
   ],
   "source": [
    "loan_data = pd.read_csv('loan.csv.zip')\n",
    "loan_data.head()"
   ]
  },
  {
   "cell_type": "code",
   "execution_count": 3,
   "metadata": {
    "collapsed": true
   },
   "outputs": [],
   "source": [
    "data_dict = pd.read_excel('LCDataDictionary.xlsx')"
   ]
  },
  {
   "cell_type": "code",
   "execution_count": 4,
   "metadata": {
    "collapsed": false
   },
   "outputs": [
    {
     "data": {
      "text/html": [
       "<div>\n",
       "<table border=\"1\" class=\"dataframe\">\n",
       "  <thead>\n",
       "    <tr style=\"text-align: right;\">\n",
       "      <th></th>\n",
       "      <th>LoanStatNew</th>\n",
       "      <th>Description</th>\n",
       "    </tr>\n",
       "  </thead>\n",
       "  <tbody>\n",
       "    <tr>\n",
       "      <th>0</th>\n",
       "      <td>addr_state</td>\n",
       "      <td>The state provided by the borrower in the loan...</td>\n",
       "    </tr>\n",
       "    <tr>\n",
       "      <th>1</th>\n",
       "      <td>annual_inc</td>\n",
       "      <td>The self-reported annual income provided by th...</td>\n",
       "    </tr>\n",
       "    <tr>\n",
       "      <th>2</th>\n",
       "      <td>annual_inc_joint</td>\n",
       "      <td>The combined self-reported annual income provi...</td>\n",
       "    </tr>\n",
       "    <tr>\n",
       "      <th>3</th>\n",
       "      <td>application_type</td>\n",
       "      <td>Indicates whether the loan is an individual ap...</td>\n",
       "    </tr>\n",
       "    <tr>\n",
       "      <th>4</th>\n",
       "      <td>collection_recovery_fee</td>\n",
       "      <td>post charge off collection fee</td>\n",
       "    </tr>\n",
       "    <tr>\n",
       "      <th>5</th>\n",
       "      <td>collections_12_mths_ex_med</td>\n",
       "      <td>Number of collections in 12 months excluding m...</td>\n",
       "    </tr>\n",
       "    <tr>\n",
       "      <th>6</th>\n",
       "      <td>delinq_2yrs</td>\n",
       "      <td>The number of 30+ days past-due incidences of ...</td>\n",
       "    </tr>\n",
       "    <tr>\n",
       "      <th>7</th>\n",
       "      <td>desc</td>\n",
       "      <td>Loan description provided by the borrower</td>\n",
       "    </tr>\n",
       "    <tr>\n",
       "      <th>8</th>\n",
       "      <td>dti</td>\n",
       "      <td>A ratio calculated using the borrower’s total ...</td>\n",
       "    </tr>\n",
       "    <tr>\n",
       "      <th>9</th>\n",
       "      <td>dti_joint</td>\n",
       "      <td>A ratio calculated using the co-borrowers' tot...</td>\n",
       "    </tr>\n",
       "    <tr>\n",
       "      <th>10</th>\n",
       "      <td>earliest_cr_line</td>\n",
       "      <td>The month the borrower's earliest reported cre...</td>\n",
       "    </tr>\n",
       "    <tr>\n",
       "      <th>11</th>\n",
       "      <td>emp_length</td>\n",
       "      <td>Employment length in years. Possible values ar...</td>\n",
       "    </tr>\n",
       "    <tr>\n",
       "      <th>12</th>\n",
       "      <td>emp_title</td>\n",
       "      <td>The job title supplied by the Borrower when ap...</td>\n",
       "    </tr>\n",
       "    <tr>\n",
       "      <th>13</th>\n",
       "      <td>fico_range_high</td>\n",
       "      <td>The upper boundary range the borrower’s FICO a...</td>\n",
       "    </tr>\n",
       "    <tr>\n",
       "      <th>14</th>\n",
       "      <td>fico_range_low</td>\n",
       "      <td>The lower boundary range the borrower’s FICO a...</td>\n",
       "    </tr>\n",
       "    <tr>\n",
       "      <th>15</th>\n",
       "      <td>funded_amnt</td>\n",
       "      <td>The total amount committed to that loan at tha...</td>\n",
       "    </tr>\n",
       "    <tr>\n",
       "      <th>16</th>\n",
       "      <td>funded_amnt_inv</td>\n",
       "      <td>The total amount committed by investors for th...</td>\n",
       "    </tr>\n",
       "    <tr>\n",
       "      <th>17</th>\n",
       "      <td>grade</td>\n",
       "      <td>LC assigned loan grade</td>\n",
       "    </tr>\n",
       "    <tr>\n",
       "      <th>18</th>\n",
       "      <td>home_ownership</td>\n",
       "      <td>The home ownership status provided by the borr...</td>\n",
       "    </tr>\n",
       "    <tr>\n",
       "      <th>19</th>\n",
       "      <td>id</td>\n",
       "      <td>A unique LC assigned ID for the loan listing.</td>\n",
       "    </tr>\n",
       "    <tr>\n",
       "      <th>20</th>\n",
       "      <td>initial_list_status</td>\n",
       "      <td>The initial listing status of the loan. Possib...</td>\n",
       "    </tr>\n",
       "    <tr>\n",
       "      <th>21</th>\n",
       "      <td>inq_last_6mths</td>\n",
       "      <td>The number of inquiries in past 6 months (excl...</td>\n",
       "    </tr>\n",
       "    <tr>\n",
       "      <th>22</th>\n",
       "      <td>installment</td>\n",
       "      <td>The monthly payment owed by the borrower if th...</td>\n",
       "    </tr>\n",
       "    <tr>\n",
       "      <th>23</th>\n",
       "      <td>int_rate</td>\n",
       "      <td>Interest Rate on the loan</td>\n",
       "    </tr>\n",
       "    <tr>\n",
       "      <th>24</th>\n",
       "      <td>is_inc_v</td>\n",
       "      <td>Indicates if income was verified by LC, not ve...</td>\n",
       "    </tr>\n",
       "    <tr>\n",
       "      <th>25</th>\n",
       "      <td>issue_d</td>\n",
       "      <td>The month which the loan was funded</td>\n",
       "    </tr>\n",
       "    <tr>\n",
       "      <th>26</th>\n",
       "      <td>last_credit_pull_d</td>\n",
       "      <td>The most recent month LC pulled credit for thi...</td>\n",
       "    </tr>\n",
       "    <tr>\n",
       "      <th>27</th>\n",
       "      <td>last_fico_range_high</td>\n",
       "      <td>The upper boundary range the borrower’s last F...</td>\n",
       "    </tr>\n",
       "    <tr>\n",
       "      <th>28</th>\n",
       "      <td>last_fico_range_low</td>\n",
       "      <td>The lower boundary range the borrower’s last F...</td>\n",
       "    </tr>\n",
       "    <tr>\n",
       "      <th>29</th>\n",
       "      <td>last_pymnt_amnt</td>\n",
       "      <td>Last total payment amount received</td>\n",
       "    </tr>\n",
       "    <tr>\n",
       "      <th>...</th>\n",
       "      <td>...</td>\n",
       "      <td>...</td>\n",
       "    </tr>\n",
       "    <tr>\n",
       "      <th>50</th>\n",
       "      <td>title</td>\n",
       "      <td>The loan title provided by the borrower</td>\n",
       "    </tr>\n",
       "    <tr>\n",
       "      <th>51</th>\n",
       "      <td>total_acc</td>\n",
       "      <td>The total number of credit lines currently in ...</td>\n",
       "    </tr>\n",
       "    <tr>\n",
       "      <th>52</th>\n",
       "      <td>total_pymnt</td>\n",
       "      <td>Payments received to date for total amount funded</td>\n",
       "    </tr>\n",
       "    <tr>\n",
       "      <th>53</th>\n",
       "      <td>total_pymnt_inv</td>\n",
       "      <td>Payments received to date for portion of total...</td>\n",
       "    </tr>\n",
       "    <tr>\n",
       "      <th>54</th>\n",
       "      <td>total_rec_int</td>\n",
       "      <td>Interest received to date</td>\n",
       "    </tr>\n",
       "    <tr>\n",
       "      <th>55</th>\n",
       "      <td>total_rec_late_fee</td>\n",
       "      <td>Late fees received to date</td>\n",
       "    </tr>\n",
       "    <tr>\n",
       "      <th>56</th>\n",
       "      <td>total_rec_prncp</td>\n",
       "      <td>Principal received to date</td>\n",
       "    </tr>\n",
       "    <tr>\n",
       "      <th>57</th>\n",
       "      <td>url</td>\n",
       "      <td>URL for the LC page with listing data.</td>\n",
       "    </tr>\n",
       "    <tr>\n",
       "      <th>58</th>\n",
       "      <td>verified_status_joint</td>\n",
       "      <td>Indicates if the co-borrowers' joint income wa...</td>\n",
       "    </tr>\n",
       "    <tr>\n",
       "      <th>59</th>\n",
       "      <td>zip_code</td>\n",
       "      <td>The first 3 numbers of the zip code provided b...</td>\n",
       "    </tr>\n",
       "    <tr>\n",
       "      <th>60</th>\n",
       "      <td>open_acc_6m</td>\n",
       "      <td>Number of open trades in last 6 months</td>\n",
       "    </tr>\n",
       "    <tr>\n",
       "      <th>61</th>\n",
       "      <td>open_il_6m</td>\n",
       "      <td>Number of currently active installment trades</td>\n",
       "    </tr>\n",
       "    <tr>\n",
       "      <th>62</th>\n",
       "      <td>open_il_12m</td>\n",
       "      <td>Number of installment accounts opened in past ...</td>\n",
       "    </tr>\n",
       "    <tr>\n",
       "      <th>63</th>\n",
       "      <td>open_il_24m</td>\n",
       "      <td>Number of installment accounts opened in past ...</td>\n",
       "    </tr>\n",
       "    <tr>\n",
       "      <th>64</th>\n",
       "      <td>mths_since_rcnt_il</td>\n",
       "      <td>Months since most recent installment accounts ...</td>\n",
       "    </tr>\n",
       "    <tr>\n",
       "      <th>65</th>\n",
       "      <td>total_bal_il</td>\n",
       "      <td>Total current balance of all installment accounts</td>\n",
       "    </tr>\n",
       "    <tr>\n",
       "      <th>66</th>\n",
       "      <td>il_util</td>\n",
       "      <td>Ratio of total current balance to high credit/...</td>\n",
       "    </tr>\n",
       "    <tr>\n",
       "      <th>67</th>\n",
       "      <td>open_rv_12m</td>\n",
       "      <td>Number of revolving trades opened in past 12 m...</td>\n",
       "    </tr>\n",
       "    <tr>\n",
       "      <th>68</th>\n",
       "      <td>open_rv_24m</td>\n",
       "      <td>Number of revolving trades opened in past 24 m...</td>\n",
       "    </tr>\n",
       "    <tr>\n",
       "      <th>69</th>\n",
       "      <td>max_bal_bc</td>\n",
       "      <td>Maximum current balance owed on all revolving ...</td>\n",
       "    </tr>\n",
       "    <tr>\n",
       "      <th>70</th>\n",
       "      <td>all_util</td>\n",
       "      <td>Balance to credit limit on all trades</td>\n",
       "    </tr>\n",
       "    <tr>\n",
       "      <th>71</th>\n",
       "      <td>total_rev_hi_lim</td>\n",
       "      <td>Total revolving high credit/credit limit</td>\n",
       "    </tr>\n",
       "    <tr>\n",
       "      <th>72</th>\n",
       "      <td>inq_fi</td>\n",
       "      <td>Number of personal finance inquiries</td>\n",
       "    </tr>\n",
       "    <tr>\n",
       "      <th>73</th>\n",
       "      <td>total_cu_tl</td>\n",
       "      <td>Number of finance trades</td>\n",
       "    </tr>\n",
       "    <tr>\n",
       "      <th>74</th>\n",
       "      <td>inq_last_12m</td>\n",
       "      <td>Number of credit inquiries in past 12 months</td>\n",
       "    </tr>\n",
       "    <tr>\n",
       "      <th>75</th>\n",
       "      <td>acc_now_delinq</td>\n",
       "      <td>The number of accounts on which the borrower i...</td>\n",
       "    </tr>\n",
       "    <tr>\n",
       "      <th>76</th>\n",
       "      <td>tot_coll_amt</td>\n",
       "      <td>Total collection amounts ever owed</td>\n",
       "    </tr>\n",
       "    <tr>\n",
       "      <th>77</th>\n",
       "      <td>tot_cur_bal</td>\n",
       "      <td>Total current balance of all accounts</td>\n",
       "    </tr>\n",
       "    <tr>\n",
       "      <th>78</th>\n",
       "      <td>NaN</td>\n",
       "      <td>NaN</td>\n",
       "    </tr>\n",
       "    <tr>\n",
       "      <th>79</th>\n",
       "      <td>NaN</td>\n",
       "      <td>* Employer Title replaces Employer Name for al...</td>\n",
       "    </tr>\n",
       "  </tbody>\n",
       "</table>\n",
       "<p>80 rows × 2 columns</p>\n",
       "</div>"
      ],
      "text/plain": [
       "                   LoanStatNew  \\\n",
       "0                   addr_state   \n",
       "1                   annual_inc   \n",
       "2             annual_inc_joint   \n",
       "3             application_type   \n",
       "4      collection_recovery_fee   \n",
       "5   collections_12_mths_ex_med   \n",
       "6                  delinq_2yrs   \n",
       "7                         desc   \n",
       "8                          dti   \n",
       "9                    dti_joint   \n",
       "10            earliest_cr_line   \n",
       "11                  emp_length   \n",
       "12                   emp_title   \n",
       "13             fico_range_high   \n",
       "14              fico_range_low   \n",
       "15                 funded_amnt   \n",
       "16             funded_amnt_inv   \n",
       "17                       grade   \n",
       "18              home_ownership   \n",
       "19                          id   \n",
       "20         initial_list_status   \n",
       "21              inq_last_6mths   \n",
       "22                 installment   \n",
       "23                    int_rate   \n",
       "24                    is_inc_v   \n",
       "25                     issue_d   \n",
       "26          last_credit_pull_d   \n",
       "27        last_fico_range_high   \n",
       "28         last_fico_range_low   \n",
       "29             last_pymnt_amnt   \n",
       "..                         ...   \n",
       "50                       title   \n",
       "51                   total_acc   \n",
       "52                 total_pymnt   \n",
       "53             total_pymnt_inv   \n",
       "54               total_rec_int   \n",
       "55          total_rec_late_fee   \n",
       "56             total_rec_prncp   \n",
       "57                         url   \n",
       "58       verified_status_joint   \n",
       "59                    zip_code   \n",
       "60                 open_acc_6m   \n",
       "61                  open_il_6m   \n",
       "62                 open_il_12m   \n",
       "63                 open_il_24m   \n",
       "64          mths_since_rcnt_il   \n",
       "65                total_bal_il   \n",
       "66                     il_util   \n",
       "67                 open_rv_12m   \n",
       "68                 open_rv_24m   \n",
       "69                  max_bal_bc   \n",
       "70                    all_util   \n",
       "71          total_rev_hi_lim     \n",
       "72                      inq_fi   \n",
       "73                 total_cu_tl   \n",
       "74                inq_last_12m   \n",
       "75              acc_now_delinq   \n",
       "76                tot_coll_amt   \n",
       "77                 tot_cur_bal   \n",
       "78                         NaN   \n",
       "79                         NaN   \n",
       "\n",
       "                                          Description  \n",
       "0   The state provided by the borrower in the loan...  \n",
       "1   The self-reported annual income provided by th...  \n",
       "2   The combined self-reported annual income provi...  \n",
       "3   Indicates whether the loan is an individual ap...  \n",
       "4                      post charge off collection fee  \n",
       "5   Number of collections in 12 months excluding m...  \n",
       "6   The number of 30+ days past-due incidences of ...  \n",
       "7           Loan description provided by the borrower  \n",
       "8   A ratio calculated using the borrower’s total ...  \n",
       "9   A ratio calculated using the co-borrowers' tot...  \n",
       "10  The month the borrower's earliest reported cre...  \n",
       "11  Employment length in years. Possible values ar...  \n",
       "12  The job title supplied by the Borrower when ap...  \n",
       "13  The upper boundary range the borrower’s FICO a...  \n",
       "14  The lower boundary range the borrower’s FICO a...  \n",
       "15  The total amount committed to that loan at tha...  \n",
       "16  The total amount committed by investors for th...  \n",
       "17                             LC assigned loan grade  \n",
       "18  The home ownership status provided by the borr...  \n",
       "19      A unique LC assigned ID for the loan listing.  \n",
       "20  The initial listing status of the loan. Possib...  \n",
       "21  The number of inquiries in past 6 months (excl...  \n",
       "22  The monthly payment owed by the borrower if th...  \n",
       "23                          Interest Rate on the loan  \n",
       "24  Indicates if income was verified by LC, not ve...  \n",
       "25                The month which the loan was funded  \n",
       "26  The most recent month LC pulled credit for thi...  \n",
       "27  The upper boundary range the borrower’s last F...  \n",
       "28  The lower boundary range the borrower’s last F...  \n",
       "29                 Last total payment amount received  \n",
       "..                                                ...  \n",
       "50            The loan title provided by the borrower  \n",
       "51  The total number of credit lines currently in ...  \n",
       "52  Payments received to date for total amount funded  \n",
       "53  Payments received to date for portion of total...  \n",
       "54                          Interest received to date  \n",
       "55                         Late fees received to date  \n",
       "56                         Principal received to date  \n",
       "57             URL for the LC page with listing data.  \n",
       "58  Indicates if the co-borrowers' joint income wa...  \n",
       "59  The first 3 numbers of the zip code provided b...  \n",
       "60             Number of open trades in last 6 months  \n",
       "61      Number of currently active installment trades  \n",
       "62  Number of installment accounts opened in past ...  \n",
       "63  Number of installment accounts opened in past ...  \n",
       "64  Months since most recent installment accounts ...  \n",
       "65  Total current balance of all installment accounts  \n",
       "66  Ratio of total current balance to high credit/...  \n",
       "67  Number of revolving trades opened in past 12 m...  \n",
       "68  Number of revolving trades opened in past 24 m...  \n",
       "69  Maximum current balance owed on all revolving ...  \n",
       "70              Balance to credit limit on all trades  \n",
       "71           Total revolving high credit/credit limit  \n",
       "72               Number of personal finance inquiries  \n",
       "73                           Number of finance trades  \n",
       "74       Number of credit inquiries in past 12 months  \n",
       "75  The number of accounts on which the borrower i...  \n",
       "76                 Total collection amounts ever owed  \n",
       "77              Total current balance of all accounts  \n",
       "78                                                NaN  \n",
       "79  * Employer Title replaces Employer Name for al...  \n",
       "\n",
       "[80 rows x 2 columns]"
      ]
     },
     "execution_count": 4,
     "metadata": {},
     "output_type": "execute_result"
    }
   ],
   "source": [
    "data_dict"
   ]
  },
  {
   "cell_type": "code",
   "execution_count": 5,
   "metadata": {
    "collapsed": false
   },
   "outputs": [
    {
     "data": {
      "text/html": [
       "<div>\n",
       "<table border=\"1\" class=\"dataframe\">\n",
       "  <thead>\n",
       "    <tr style=\"text-align: right;\">\n",
       "      <th></th>\n",
       "      <th>LoanStatNew</th>\n",
       "      <th>Description</th>\n",
       "    </tr>\n",
       "  </thead>\n",
       "  <tbody>\n",
       "    <tr>\n",
       "      <th>32</th>\n",
       "      <td>loan_status</td>\n",
       "      <td>Current status of the loan</td>\n",
       "    </tr>\n",
       "  </tbody>\n",
       "</table>\n",
       "</div>"
      ],
      "text/plain": [
       "    LoanStatNew                 Description\n",
       "32  loan_status  Current status of the loan"
      ]
     },
     "execution_count": 5,
     "metadata": {},
     "output_type": "execute_result"
    }
   ],
   "source": [
    "data_dict[data_dict['LoanStatNew'] == 'loan_status']"
   ]
  },
  {
   "cell_type": "code",
   "execution_count": 6,
   "metadata": {
    "collapsed": false
   },
   "outputs": [
    {
     "data": {
      "text/plain": [
       "array(['Fully Paid', 'Charged Off', 'Current', 'Default',\n",
       "       'Late (31-120 days)', 'In Grace Period', 'Late (16-30 days)',\n",
       "       'Does not meet the credit policy. Status:Fully Paid',\n",
       "       'Does not meet the credit policy. Status:Charged Off', 'Issued'], dtype=object)"
      ]
     },
     "execution_count": 6,
     "metadata": {},
     "output_type": "execute_result"
    }
   ],
   "source": [
    "loan_data['loan_status'].unique()"
   ]
  },
  {
   "cell_type": "code",
   "execution_count": 7,
   "metadata": {
    "collapsed": false
   },
   "outputs": [
    {
     "name": "stdout",
     "output_type": "stream",
     "text": [
      "<class 'pandas.core.frame.DataFrame'>\n",
      "Int64Index: 266919 entries, 0 to 887371\n",
      "Data columns (total 74 columns):\n",
      "id                             266919 non-null int64\n",
      "member_id                      266919 non-null int64\n",
      "loan_amnt                      266919 non-null float64\n",
      "funded_amnt                    266919 non-null float64\n",
      "funded_amnt_inv                266919 non-null float64\n",
      "term                           266919 non-null object\n",
      "int_rate                       266919 non-null float64\n",
      "installment                    266919 non-null float64\n",
      "grade                          266919 non-null object\n",
      "sub_grade                      266919 non-null object\n",
      "emp_title                      252040 non-null object\n",
      "emp_length                     266919 non-null object\n",
      "home_ownership                 266919 non-null object\n",
      "annual_inc                     266919 non-null float64\n",
      "verification_status            266919 non-null object\n",
      "issue_d                        266919 non-null object\n",
      "loan_status                    266919 non-null object\n",
      "pymnt_plan                     266919 non-null object\n",
      "url                            266919 non-null object\n",
      "desc                           89600 non-null object\n",
      "purpose                        266919 non-null object\n",
      "title                          266907 non-null object\n",
      "zip_code                       266919 non-null object\n",
      "addr_state                     266919 non-null object\n",
      "dti                            266919 non-null float64\n",
      "delinq_2yrs                    266919 non-null float64\n",
      "earliest_cr_line               266919 non-null object\n",
      "inq_last_6mths                 266919 non-null float64\n",
      "mths_since_last_delinq         119555 non-null float64\n",
      "mths_since_last_record         34001 non-null float64\n",
      "open_acc                       266919 non-null float64\n",
      "pub_rec                        266919 non-null float64\n",
      "revol_bal                      266919 non-null float64\n",
      "revol_util                     266709 non-null float64\n",
      "total_acc                      266919 non-null float64\n",
      "initial_list_status            266919 non-null object\n",
      "out_prncp                      266919 non-null float64\n",
      "out_prncp_inv                  266919 non-null float64\n",
      "total_pymnt                    266919 non-null float64\n",
      "total_pymnt_inv                266919 non-null float64\n",
      "total_rec_prncp                266919 non-null float64\n",
      "total_rec_int                  266919 non-null float64\n",
      "total_rec_late_fee             266919 non-null float64\n",
      "recoveries                     266919 non-null float64\n",
      "collection_recovery_fee        266919 non-null float64\n",
      "last_pymnt_d                   266231 non-null object\n",
      "last_pymnt_amnt                266919 non-null float64\n",
      "next_pymnt_d                   13948 non-null object\n",
      "last_credit_pull_d             266897 non-null object\n",
      "collections_12_mths_ex_med     266863 non-null float64\n",
      "mths_since_last_major_derog    51650 non-null float64\n",
      "policy_code                    266919 non-null float64\n",
      "application_type               266919 non-null object\n",
      "annual_inc_joint               3 non-null float64\n",
      "dti_joint                      3 non-null float64\n",
      "verification_status_joint      3 non-null object\n",
      "acc_now_delinq                 266919 non-null float64\n",
      "tot_coll_amt                   203063 non-null float64\n",
      "tot_cur_bal                    203063 non-null float64\n",
      "open_acc_6m                    144 non-null float64\n",
      "open_il_6m                     144 non-null float64\n",
      "open_il_12m                    144 non-null float64\n",
      "open_il_24m                    144 non-null float64\n",
      "mths_since_rcnt_il             140 non-null float64\n",
      "total_bal_il                   144 non-null float64\n",
      "il_util                        126 non-null float64\n",
      "open_rv_12m                    144 non-null float64\n",
      "open_rv_24m                    144 non-null float64\n",
      "max_bal_bc                     144 non-null float64\n",
      "all_util                       144 non-null float64\n",
      "total_rev_hi_lim               203063 non-null float64\n",
      "inq_fi                         144 non-null float64\n",
      "total_cu_tl                    144 non-null float64\n",
      "inq_last_12m                   144 non-null float64\n",
      "dtypes: float64(49), int64(2), object(23)\n",
      "memory usage: 152.7+ MB\n"
     ]
    }
   ],
   "source": [
    "loan_data[(loan_data['loan_status'] == 'Fully Paid') | \n",
    "          (loan_data['loan_status'] == 'Late (31-120 days)') |\n",
    "          (loan_data['loan_status'] == 'Late (16-30 days)') |\n",
    "          (loan_data['loan_status'] == 'Charged Off')].info()"
   ]
  },
  {
   "cell_type": "code",
   "execution_count": 8,
   "metadata": {
    "collapsed": true
   },
   "outputs": [],
   "source": [
    "loan_data_relevant = loan_data[(loan_data['loan_status'] == 'Fully Paid') | \n",
    "          (loan_data['loan_status'] == 'Late (31-120 days)') |\n",
    "          (loan_data['loan_status'] == 'Late (16-30 days)') |\n",
    "          (loan_data['loan_status'] == 'Charged Off')]"
   ]
  },
  {
   "cell_type": "code",
   "execution_count": 9,
   "metadata": {
    "collapsed": false
   },
   "outputs": [
    {
     "data": {
      "text/plain": [
       "id                                  0\n",
       "member_id                           0\n",
       "loan_amnt                           0\n",
       "funded_amnt                         0\n",
       "funded_amnt_inv                     0\n",
       "term                                0\n",
       "int_rate                            0\n",
       "installment                         0\n",
       "grade                               0\n",
       "sub_grade                           0\n",
       "emp_title                       14879\n",
       "emp_length                          0\n",
       "home_ownership                      0\n",
       "annual_inc                          0\n",
       "verification_status                 0\n",
       "issue_d                             0\n",
       "loan_status                         0\n",
       "pymnt_plan                          0\n",
       "url                                 0\n",
       "desc                           177319\n",
       "purpose                             0\n",
       "title                              12\n",
       "zip_code                            0\n",
       "addr_state                          0\n",
       "dti                                 0\n",
       "delinq_2yrs                         0\n",
       "earliest_cr_line                    0\n",
       "inq_last_6mths                      0\n",
       "mths_since_last_delinq         147364\n",
       "mths_since_last_record         232918\n",
       "                                ...  \n",
       "collection_recovery_fee             0\n",
       "last_pymnt_d                      688\n",
       "last_pymnt_amnt                     0\n",
       "next_pymnt_d                   252971\n",
       "last_credit_pull_d                 22\n",
       "collections_12_mths_ex_med         56\n",
       "mths_since_last_major_derog    215269\n",
       "policy_code                         0\n",
       "application_type                    0\n",
       "annual_inc_joint               266916\n",
       "dti_joint                      266916\n",
       "verification_status_joint      266916\n",
       "acc_now_delinq                      0\n",
       "tot_coll_amt                    63856\n",
       "tot_cur_bal                     63856\n",
       "open_acc_6m                    266775\n",
       "open_il_6m                     266775\n",
       "open_il_12m                    266775\n",
       "open_il_24m                    266775\n",
       "mths_since_rcnt_il             266779\n",
       "total_bal_il                   266775\n",
       "il_util                        266793\n",
       "open_rv_12m                    266775\n",
       "open_rv_24m                    266775\n",
       "max_bal_bc                     266775\n",
       "all_util                       266775\n",
       "total_rev_hi_lim                63856\n",
       "inq_fi                         266775\n",
       "total_cu_tl                    266775\n",
       "inq_last_12m                   266775\n",
       "dtype: int64"
      ]
     },
     "execution_count": 9,
     "metadata": {},
     "output_type": "execute_result"
    }
   ],
   "source": [
    "loan_data_relevant.isnull().sum()"
   ]
  },
  {
   "cell_type": "code",
   "execution_count": 10,
   "metadata": {
    "collapsed": false
   },
   "outputs": [
    {
     "name": "stdout",
     "output_type": "stream",
     "text": [
      "<class 'pandas.core.frame.DataFrame'>\n",
      "Int64Index: 266919 entries, 0 to 887371\n",
      "Data columns (total 43 columns):\n",
      "id                         266919 non-null int64\n",
      "member_id                  266919 non-null int64\n",
      "loan_amnt                  266919 non-null float64\n",
      "funded_amnt                266919 non-null float64\n",
      "funded_amnt_inv            266919 non-null float64\n",
      "term                       266919 non-null object\n",
      "int_rate                   266919 non-null float64\n",
      "installment                266919 non-null float64\n",
      "grade                      266919 non-null object\n",
      "sub_grade                  266919 non-null object\n",
      "emp_length                 266919 non-null object\n",
      "home_ownership             266919 non-null object\n",
      "annual_inc                 266919 non-null float64\n",
      "verification_status        266919 non-null object\n",
      "issue_d                    266919 non-null object\n",
      "loan_status                266919 non-null object\n",
      "pymnt_plan                 266919 non-null object\n",
      "url                        266919 non-null object\n",
      "purpose                    266919 non-null object\n",
      "zip_code                   266919 non-null object\n",
      "addr_state                 266919 non-null object\n",
      "dti                        266919 non-null float64\n",
      "delinq_2yrs                266919 non-null float64\n",
      "earliest_cr_line           266919 non-null object\n",
      "inq_last_6mths             266919 non-null float64\n",
      "open_acc                   266919 non-null float64\n",
      "pub_rec                    266919 non-null float64\n",
      "revol_bal                  266919 non-null float64\n",
      "total_acc                  266919 non-null float64\n",
      "initial_list_status        266919 non-null object\n",
      "out_prncp                  266919 non-null float64\n",
      "out_prncp_inv              266919 non-null float64\n",
      "total_pymnt                266919 non-null float64\n",
      "total_pymnt_inv            266919 non-null float64\n",
      "total_rec_prncp            266919 non-null float64\n",
      "total_rec_int              266919 non-null float64\n",
      "total_rec_late_fee         266919 non-null float64\n",
      "recoveries                 266919 non-null float64\n",
      "collection_recovery_fee    266919 non-null float64\n",
      "last_pymnt_amnt            266919 non-null float64\n",
      "policy_code                266919 non-null float64\n",
      "application_type           266919 non-null object\n",
      "acc_now_delinq             266919 non-null float64\n",
      "dtypes: float64(25), int64(2), object(16)\n",
      "memory usage: 89.6+ MB\n"
     ]
    }
   ],
   "source": [
    "loan_data_relevant.dropna(axis=1).info()"
   ]
  },
  {
   "cell_type": "code",
   "execution_count": 11,
   "metadata": {
    "collapsed": false
   },
   "outputs": [],
   "source": [
    "loan_data_relevant = loan_data_relevant.dropna(axis=1)"
   ]
  },
  {
   "cell_type": "markdown",
   "metadata": {},
   "source": [
    "## Finding Categorical Features"
   ]
  },
  {
   "cell_type": "code",
   "execution_count": 12,
   "metadata": {
    "collapsed": true
   },
   "outputs": [],
   "source": [
    "obj_loan_data = loan_data_relevant.select_dtypes(include=['object']).copy()"
   ]
  },
  {
   "cell_type": "code",
   "execution_count": 13,
   "metadata": {
    "collapsed": false
   },
   "outputs": [
    {
     "name": "stdout",
     "output_type": "stream",
     "text": [
      "<class 'pandas.core.frame.DataFrame'>\n",
      "Int64Index: 266919 entries, 0 to 887371\n",
      "Data columns (total 16 columns):\n",
      "term                   266919 non-null object\n",
      "grade                  266919 non-null object\n",
      "sub_grade              266919 non-null object\n",
      "emp_length             266919 non-null object\n",
      "home_ownership         266919 non-null object\n",
      "verification_status    266919 non-null object\n",
      "issue_d                266919 non-null object\n",
      "loan_status            266919 non-null object\n",
      "pymnt_plan             266919 non-null object\n",
      "url                    266919 non-null object\n",
      "purpose                266919 non-null object\n",
      "zip_code               266919 non-null object\n",
      "addr_state             266919 non-null object\n",
      "earliest_cr_line       266919 non-null object\n",
      "initial_list_status    266919 non-null object\n",
      "application_type       266919 non-null object\n",
      "dtypes: object(16)\n",
      "memory usage: 34.6+ MB\n"
     ]
    }
   ],
   "source": [
    "obj_loan_data.info()"
   ]
  },
  {
   "cell_type": "code",
   "execution_count": 14,
   "metadata": {
    "collapsed": false
   },
   "outputs": [],
   "source": [
    "#loan_data_relevant.drop(['next_pymnt_d', 'verification_status_joint', 'desc'], axis=1, inplace=True)"
   ]
  },
  {
   "cell_type": "markdown",
   "metadata": {},
   "source": [
    "## Training XGBoost on Data Without Null Values"
   ]
  },
  {
   "cell_type": "code",
   "execution_count": 15,
   "metadata": {
    "collapsed": true
   },
   "outputs": [],
   "source": [
    "loan_data_cleaned = loan_data_relevant.dropna(axis=1)"
   ]
  },
  {
   "cell_type": "code",
   "execution_count": 16,
   "metadata": {
    "collapsed": false
   },
   "outputs": [],
   "source": [
    "X = loan_data_cleaned.drop(['loan_status'], axis=1)\n",
    "y = loan_data_cleaned['loan_status']"
   ]
  },
  {
   "cell_type": "code",
   "execution_count": 17,
   "metadata": {
    "collapsed": false
   },
   "outputs": [],
   "source": [
    "from sklearn.preprocessing import LabelEncoder\n",
    "for col in obj_loan_data.columns:\n",
    "    if col in X.columns:\n",
    "        lbl = LabelEncoder()\n",
    "        X[col] = lbl.fit_transform(X[col])"
   ]
  },
  {
   "cell_type": "code",
   "execution_count": 18,
   "metadata": {
    "collapsed": false
   },
   "outputs": [
    {
     "name": "stdout",
     "output_type": "stream",
     "text": [
      "<class 'pandas.core.frame.DataFrame'>\n",
      "Int64Index: 266919 entries, 0 to 887371\n",
      "Data columns (total 42 columns):\n",
      "id                         266919 non-null int64\n",
      "member_id                  266919 non-null int64\n",
      "loan_amnt                  266919 non-null float64\n",
      "funded_amnt                266919 non-null float64\n",
      "funded_amnt_inv            266919 non-null float64\n",
      "term                       266919 non-null int64\n",
      "int_rate                   266919 non-null float64\n",
      "installment                266919 non-null float64\n",
      "grade                      266919 non-null int64\n",
      "sub_grade                  266919 non-null int64\n",
      "emp_length                 266919 non-null int64\n",
      "home_ownership             266919 non-null int64\n",
      "annual_inc                 266919 non-null float64\n",
      "verification_status        266919 non-null int64\n",
      "issue_d                    266919 non-null int64\n",
      "pymnt_plan                 266919 non-null int64\n",
      "url                        266919 non-null int64\n",
      "purpose                    266919 non-null int64\n",
      "zip_code                   266919 non-null int64\n",
      "addr_state                 266919 non-null int64\n",
      "dti                        266919 non-null float64\n",
      "delinq_2yrs                266919 non-null float64\n",
      "earliest_cr_line           266919 non-null int64\n",
      "inq_last_6mths             266919 non-null float64\n",
      "open_acc                   266919 non-null float64\n",
      "pub_rec                    266919 non-null float64\n",
      "revol_bal                  266919 non-null float64\n",
      "total_acc                  266919 non-null float64\n",
      "initial_list_status        266919 non-null int64\n",
      "out_prncp                  266919 non-null float64\n",
      "out_prncp_inv              266919 non-null float64\n",
      "total_pymnt                266919 non-null float64\n",
      "total_pymnt_inv            266919 non-null float64\n",
      "total_rec_prncp            266919 non-null float64\n",
      "total_rec_int              266919 non-null float64\n",
      "total_rec_late_fee         266919 non-null float64\n",
      "recoveries                 266919 non-null float64\n",
      "collection_recovery_fee    266919 non-null float64\n",
      "last_pymnt_amnt            266919 non-null float64\n",
      "policy_code                266919 non-null float64\n",
      "application_type           266919 non-null int64\n",
      "acc_now_delinq             266919 non-null float64\n",
      "dtypes: float64(25), int64(17)\n",
      "memory usage: 87.6 MB\n"
     ]
    }
   ],
   "source": [
    "X.info()"
   ]
  },
  {
   "cell_type": "code",
   "execution_count": 19,
   "metadata": {
    "collapsed": false
   },
   "outputs": [
    {
     "data": {
      "text/plain": [
       "0                 Fully Paid\n",
       "1                Charged Off\n",
       "2                 Fully Paid\n",
       "3                 Fully Paid\n",
       "5                 Fully Paid\n",
       "7                 Fully Paid\n",
       "8                Charged Off\n",
       "9                Charged Off\n",
       "10                Fully Paid\n",
       "11                Fully Paid\n",
       "12               Charged Off\n",
       "13                Fully Paid\n",
       "14               Charged Off\n",
       "15                Fully Paid\n",
       "16                Fully Paid\n",
       "17                Fully Paid\n",
       "18                Fully Paid\n",
       "19                Fully Paid\n",
       "20                Fully Paid\n",
       "21               Charged Off\n",
       "22                Fully Paid\n",
       "23                Fully Paid\n",
       "24               Charged Off\n",
       "25                Fully Paid\n",
       "26               Charged Off\n",
       "27               Charged Off\n",
       "28                Fully Paid\n",
       "29                Fully Paid\n",
       "30                Fully Paid\n",
       "31                Fully Paid\n",
       "                 ...        \n",
       "887198            Fully Paid\n",
       "887202            Fully Paid\n",
       "887215            Fully Paid\n",
       "887231    Late (31-120 days)\n",
       "887248    Late (31-120 days)\n",
       "887249            Fully Paid\n",
       "887254           Charged Off\n",
       "887258     Late (16-30 days)\n",
       "887263            Fully Paid\n",
       "887264            Fully Paid\n",
       "887268           Charged Off\n",
       "887275           Charged Off\n",
       "887276    Late (31-120 days)\n",
       "887279            Fully Paid\n",
       "887280    Late (31-120 days)\n",
       "887290           Charged Off\n",
       "887303           Charged Off\n",
       "887308           Charged Off\n",
       "887322    Late (31-120 days)\n",
       "887330           Charged Off\n",
       "887332            Fully Paid\n",
       "887337    Late (31-120 days)\n",
       "887345    Late (31-120 days)\n",
       "887346            Fully Paid\n",
       "887347            Fully Paid\n",
       "887351           Charged Off\n",
       "887364            Fully Paid\n",
       "887366            Fully Paid\n",
       "887369            Fully Paid\n",
       "887371           Charged Off\n",
       "Name: loan_status, dtype: object"
      ]
     },
     "execution_count": 19,
     "metadata": {},
     "output_type": "execute_result"
    }
   ],
   "source": [
    "y"
   ]
  },
  {
   "cell_type": "code",
   "execution_count": 20,
   "metadata": {
    "collapsed": false
   },
   "outputs": [
    {
     "name": "stderr",
     "output_type": "stream",
     "text": [
      "//anaconda/lib/python3.5/site-packages/sklearn/cross_validation.py:44: DeprecationWarning: This module was deprecated in version 0.18 in favor of the model_selection module into which all the refactored classes and functions are moved. Also note that the interface of the new CV iterators are different from that of this module. This module will be removed in 0.20.\n",
      "  \"This module will be removed in 0.20.\", DeprecationWarning)\n"
     ]
    }
   ],
   "source": [
    "from xgboost import XGBClassifier"
   ]
  },
  {
   "cell_type": "code",
   "execution_count": 21,
   "metadata": {
    "collapsed": true
   },
   "outputs": [],
   "source": [
    "from sklearn.model_selection import train_test_split"
   ]
  },
  {
   "cell_type": "code",
   "execution_count": 22,
   "metadata": {
    "collapsed": false
   },
   "outputs": [],
   "source": [
    "X_train, X_test, y_train, y_test = train_test_split(X, y, test_size=0.3, random_state=42)"
   ]
  },
  {
   "cell_type": "code",
   "execution_count": 23,
   "metadata": {
    "collapsed": false
   },
   "outputs": [
    {
     "data": {
      "text/plain": [
       "XGBClassifier(base_score=0.5, colsample_bylevel=1, colsample_bytree=1,\n",
       "       gamma=0, learning_rate=0.1, max_delta_step=0, max_depth=3,\n",
       "       min_child_weight=1, missing=None, n_estimators=100, nthread=6,\n",
       "       objective='multi:softprob', reg_alpha=0, reg_lambda=1,\n",
       "       scale_pos_weight=1, seed=0, silent=True, subsample=1)"
      ]
     },
     "execution_count": 23,
     "metadata": {},
     "output_type": "execute_result"
    }
   ],
   "source": [
    "xgb_model = XGBClassifier(nthread=6)\n",
    "xgb_model.fit(X_train, y_train)"
   ]
  },
  {
   "cell_type": "code",
   "execution_count": 24,
   "metadata": {
    "collapsed": false
   },
   "outputs": [
    {
     "name": "stdout",
     "output_type": "stream",
     "text": [
      "                    precision    recall  f1-score   support\n",
      "\n",
      "       Charged Off       0.98      1.00      0.99     13297\n",
      "        Fully Paid       1.00      1.00      1.00     62570\n",
      " Late (16-30 days)       0.03      0.68      0.06        31\n",
      "Late (31-120 days)       1.00      0.84      0.91      4178\n",
      "\n",
      "       avg / total       1.00      0.99      0.99     80076\n",
      "\n"
     ]
    }
   ],
   "source": [
    "from sklearn.metrics import classification_report\n",
    "pred = xgb_model.predict(X_test)\n",
    "print(classification_report(pred, y_test))"
   ]
  },
  {
   "cell_type": "code",
   "execution_count": 25,
   "metadata": {
    "collapsed": false
   },
   "outputs": [],
   "source": [
    "from sklearn.ensemble import RandomForestClassifier"
   ]
  },
  {
   "cell_type": "code",
   "execution_count": 26,
   "metadata": {
    "collapsed": false
   },
   "outputs": [
    {
     "data": {
      "text/plain": [
       "RandomForestClassifier(bootstrap=True, class_weight=None, criterion='gini',\n",
       "            max_depth=None, max_features='auto', max_leaf_nodes=None,\n",
       "            min_impurity_split=1e-07, min_samples_leaf=1,\n",
       "            min_samples_split=2, min_weight_fraction_leaf=0.0,\n",
       "            n_estimators=150, n_jobs=8, oob_score=False, random_state=None,\n",
       "            verbose=0, warm_start=False)"
      ]
     },
     "execution_count": 26,
     "metadata": {},
     "output_type": "execute_result"
    }
   ],
   "source": [
    "rfc = RandomForestClassifier(n_estimators=150, n_jobs=8)\n",
    "rfc.fit(X_train, y_train)"
   ]
  },
  {
   "cell_type": "code",
   "execution_count": 27,
   "metadata": {
    "collapsed": false
   },
   "outputs": [
    {
     "name": "stdout",
     "output_type": "stream",
     "text": [
      "                    precision    recall  f1-score   support\n",
      "\n",
      "       Charged Off       0.99      1.00      0.99     13430\n",
      "        Fully Paid       1.00      1.00      1.00     62437\n",
      " Late (16-30 days)       0.07      0.65      0.13        75\n",
      "Late (31-120 days)       0.99      0.85      0.91      4134\n",
      "\n",
      "       avg / total       1.00      0.99      0.99     80076\n",
      "\n"
     ]
    }
   ],
   "source": [
    "pred = rfc.predict(X_test)\n",
    "print(classification_report(pred, y_test))"
   ]
  },
  {
   "cell_type": "markdown",
   "metadata": {},
   "source": [
    "## Selecting Smaller Subset of Features"
   ]
  },
  {
   "cell_type": "code",
   "execution_count": 28,
   "metadata": {
    "collapsed": false
   },
   "outputs": [
    {
     "data": {
      "text/plain": [
       "array([  1.90020649e-02,   1.49932011e-02,   2.81772063e-02,\n",
       "         3.73266328e-02,   3.48026029e-02,   6.69384000e-03,\n",
       "         5.87895471e-03,   3.19512938e-02,   3.50460148e-03,\n",
       "         6.17691471e-03,   1.26029650e-03,   4.82838574e-04,\n",
       "         2.37371457e-03,   1.04022271e-03,   1.53918770e-03,\n",
       "         6.80933803e-06,   3.95847231e-03,   9.82618791e-04,\n",
       "         2.15382200e-03,   1.62098697e-03,   2.97155056e-03,\n",
       "         5.81641081e-04,   2.16341171e-03,   7.53278743e-04,\n",
       "         1.72571411e-03,   4.20308485e-04,   2.79932070e-03,\n",
       "         1.92233256e-03,   1.13206103e-03,   8.44275186e-02,\n",
       "         8.38050265e-02,   5.65792324e-02,   4.81668228e-02,\n",
       "         1.53598238e-01,   1.34077455e-02,   3.67160897e-03,\n",
       "         1.17517572e-01,   1.05531286e-01,   1.14858852e-01,\n",
       "         0.00000000e+00,   0.00000000e+00,   4.01950879e-05])"
      ]
     },
     "execution_count": 28,
     "metadata": {},
     "output_type": "execute_result"
    }
   ],
   "source": [
    "rfc.feature_importances_"
   ]
  },
  {
   "cell_type": "code",
   "execution_count": 29,
   "metadata": {
    "collapsed": false
   },
   "outputs": [],
   "source": [
    "feature_importance_dict = dict(zip(X.columns, rfc.feature_importances_))"
   ]
  },
  {
   "cell_type": "code",
   "execution_count": 30,
   "metadata": {
    "collapsed": false
   },
   "outputs": [
    {
     "data": {
      "text/plain": [
       "'total_rec_prncp'"
      ]
     },
     "execution_count": 30,
     "metadata": {},
     "output_type": "execute_result"
    }
   ],
   "source": [
    "max(feature_importance_dict, key=feature_importance_dict.get)"
   ]
  },
  {
   "cell_type": "code",
   "execution_count": 31,
   "metadata": {
    "collapsed": false
   },
   "outputs": [
    {
     "data": {
      "text/html": [
       "<div>\n",
       "<table border=\"1\" class=\"dataframe\">\n",
       "  <thead>\n",
       "    <tr style=\"text-align: right;\">\n",
       "      <th></th>\n",
       "      <th>LoanStatNew</th>\n",
       "      <th>Description</th>\n",
       "    </tr>\n",
       "  </thead>\n",
       "  <tbody>\n",
       "    <tr>\n",
       "      <th>56</th>\n",
       "      <td>total_rec_prncp</td>\n",
       "      <td>Principal received to date</td>\n",
       "    </tr>\n",
       "  </tbody>\n",
       "</table>\n",
       "</div>"
      ],
      "text/plain": [
       "        LoanStatNew                 Description\n",
       "56  total_rec_prncp  Principal received to date"
      ]
     },
     "execution_count": 31,
     "metadata": {},
     "output_type": "execute_result"
    }
   ],
   "source": [
    "data_dict[data_dict['LoanStatNew'] == 'total_rec_prncp']"
   ]
  },
  {
   "cell_type": "code",
   "execution_count": 32,
   "metadata": {
    "collapsed": false
   },
   "outputs": [
    {
     "data": {
      "image/png": "[encoded data removed]",
      "text/plain": [
       "<matplotlib.figure.Figure at 0x11271d898>"
      ]
     },
     "metadata": {},
     "output_type": "display_data"
    }
   ],
   "source": [
    "plt.figure(figsize=(5,5))\n",
    "plt.bar(range(len(feature_importance_dict)), feature_importance_dict.values(), align='center')\n",
    "plt.xticks(range(len(feature_importance_dict)), list(feature_importance_dict.keys()))\n",
    "plt.title('Feature importances')\n",
    "plt.xlabel('Feature')\n",
    "plt.ylabel('Importance')\n",
    "plt.show()"
   ]
  },
  {
   "cell_type": "code",
   "execution_count": 33,
   "metadata": {
    "collapsed": true
   },
   "outputs": [],
   "source": [
    "top_40_feats = sorted(feature_importance_dict.items(), key=lambda x: x[1])[-40:]"
   ]
  },
  {
   "cell_type": "code",
   "execution_count": 34,
   "metadata": {
    "collapsed": false
   },
   "outputs": [
    {
     "data": {
      "text/plain": [
       "[('pymnt_plan', 6.8093380318906896e-06),\n",
       " ('acc_now_delinq', 4.0195087921659533e-05),\n",
       " ('pub_rec', 0.00042030848501535594),\n",
       " ('home_ownership', 0.00048283857412481293),\n",
       " ('delinq_2yrs', 0.0005816410810006871),\n",
       " ('inq_last_6mths', 0.00075327874340224007),\n",
       " ('purpose', 0.00098261879078802013),\n",
       " ('verification_status', 0.0010402227086426298),\n",
       " ('initial_list_status', 0.0011320610310466693),\n",
       " ('emp_length', 0.0012602965040476644),\n",
       " ('issue_d', 0.001539187697454516),\n",
       " ('addr_state', 0.0016209869736249956),\n",
       " ('open_acc', 0.0017257141076516935),\n",
       " ('total_acc', 0.0019223325579152736),\n",
       " ('zip_code', 0.0021538219979742295),\n",
       " ('earliest_cr_line', 0.0021634117079188863),\n",
       " ('annual_inc', 0.0023737145701186848),\n",
       " ('revol_bal', 0.0027993207039808841),\n",
       " ('dti', 0.0029715505599598973),\n",
       " ('grade', 0.0035046014766129526),\n",
       " ('total_rec_late_fee', 0.0036716089717127882),\n",
       " ('url', 0.0039584723064803743),\n",
       " ('int_rate', 0.0058789547090394448),\n",
       " ('sub_grade', 0.0061769147091336862),\n",
       " ('term', 0.0066938400000850088),\n",
       " ('total_rec_int', 0.013407745491949691),\n",
       " ('member_id', 0.014993201075747274),\n",
       " ('id', 0.019002064918349156),\n",
       " ('loan_amnt', 0.028177206343973946),\n",
       " ('installment', 0.031951293760241126),\n",
       " ('funded_amnt_inv', 0.034802602900732851),\n",
       " ('funded_amnt', 0.037326632753197225),\n",
       " ('total_pymnt_inv', 0.048166822797529922),\n",
       " ('total_pymnt', 0.056579232440796275),\n",
       " ('out_prncp_inv', 0.083805026495382559),\n",
       " ('out_prncp', 0.084427518552158146),\n",
       " ('collection_recovery_fee', 0.10553128642833591),\n",
       " ('last_pymnt_amnt', 0.11485885178722834),\n",
       " ('recoveries', 0.11751757246173376),\n",
       " ('total_rec_prncp', 0.15359823839895886)]"
      ]
     },
     "execution_count": 34,
     "metadata": {},
     "output_type": "execute_result"
    }
   ],
   "source": [
    "top_40_feats"
   ]
  },
  {
   "cell_type": "code",
   "execution_count": 46,
   "metadata": {
    "collapsed": true
   },
   "outputs": [],
   "source": [
    "feats_to_include = ['addr_state', \n",
    "                    'int_rate', \n",
    "                    'loan_amnt', \n",
    "                    'annual_inc', \n",
    "                    'delinq_2yrs',\n",
    "                    'term',\n",
    "                    'pub_rec',\n",
    "                    'emp_length',\n",
    "                    'home_ownership',\n",
    "                    'dti',\n",
    "                   'open_acc',\n",
    "                   'installment',\n",
    "                   'acc_now_delinq']"
   ]
  },
  {
   "cell_type": "code",
   "execution_count": 36,
   "metadata": {
    "collapsed": false
   },
   "outputs": [],
   "source": [
    "new_loan_data_cleaned = loan_data_cleaned[(loan_data_cleaned['loan_status'] == 'Fully Paid') | \n",
    "                  (loan_data_cleaned['loan_status'] == 'Charged Off')]"
   ]
  },
  {
   "cell_type": "code",
   "execution_count": 42,
   "metadata": {
    "collapsed": false
   },
   "outputs": [],
   "source": [
    "X_less_feats = new_loan_data_cleaned[feats_to_include]"
   ]
  },
  {
   "cell_type": "code",
   "execution_count": 43,
   "metadata": {
    "collapsed": true
   },
   "outputs": [],
   "source": [
    "y = new_loan_data_cleaned['loan_status']"
   ]
  },
  {
   "cell_type": "code",
   "execution_count": 44,
   "metadata": {
    "collapsed": false
   },
   "outputs": [
    {
     "data": {
      "text/plain": [
       "array(['Charged Off', 'Fully Paid'], dtype=object)"
      ]
     },
     "execution_count": 44,
     "metadata": {},
     "output_type": "execute_result"
    }
   ],
   "source": [
    "np.unique(y.values)"
   ]
  },
  {
   "cell_type": "code",
   "execution_count": 47,
   "metadata": {
    "collapsed": false
   },
   "outputs": [
    {
     "name": "stderr",
     "output_type": "stream",
     "text": [
      "//anaconda/lib/python3.5/site-packages/ipykernel/__main__.py:4: SettingWithCopyWarning: \n",
      "A value is trying to be set on a copy of a slice from a DataFrame.\n",
      "Try using .loc[row_indexer,col_indexer] = value instead\n",
      "\n",
      "See the caveats in the documentation: http://pandas.pydata.org/pandas-docs/stable/indexing.html#indexing-view-versus-copy\n"
     ]
    }
   ],
   "source": [
    "for col in obj_loan_data.columns:\n",
    "    if col in X_less_feats.columns:\n",
    "        lbl = LabelEncoder()\n",
    "        X_less_feats[col] = lbl.fit_transform(X_less_feats[col])"
   ]
  },
  {
   "cell_type": "code",
   "execution_count": 48,
   "metadata": {
    "collapsed": false
   },
   "outputs": [
    {
     "data": {
      "text/plain": [
       "RandomForestClassifier(bootstrap=True, class_weight=None, criterion='gini',\n",
       "            max_depth=None, max_features='auto', max_leaf_nodes=None,\n",
       "            min_impurity_split=1e-07, min_samples_leaf=1,\n",
       "            min_samples_split=2, min_weight_fraction_leaf=0.0,\n",
       "            n_estimators=150, n_jobs=8, oob_score=False, random_state=None,\n",
       "            verbose=0, warm_start=False)"
      ]
     },
     "execution_count": 48,
     "metadata": {},
     "output_type": "execute_result"
    }
   ],
   "source": [
    "X_train, X_test, y_train, y_test = train_test_split(X_less_feats, y, test_size=0.3, random_state=42)\n",
    "random_forest = RandomForestClassifier(n_estimators=150, n_jobs=8)\n",
    "random_forest.fit(X_train, y_train)"
   ]
  },
  {
   "cell_type": "code",
   "execution_count": 49,
   "metadata": {
    "collapsed": false
   },
   "outputs": [
    {
     "name": "stdout",
     "output_type": "stream",
     "text": [
      "             precision    recall  f1-score   support\n",
      "\n",
      "Charged Off       0.05      0.46      0.08      1340\n",
      " Fully Paid       0.99      0.83      0.90     74552\n",
      "\n",
      "avg / total       0.97      0.82      0.89     75892\n",
      "\n"
     ]
    }
   ],
   "source": [
    "pred = random_forest.predict(X_test)\n",
    "print(classification_report(pred, y_test))"
   ]
  },
  {
   "cell_type": "code",
   "execution_count": 87,
   "metadata": {
    "collapsed": false
   },
   "outputs": [],
   "source": [
    "def binarize(input):\n",
    "    \n",
    "    if(input != 'Fully Paid'):\n",
    "        return 'Not fully paid'\n",
    "    else:\n",
    "        return input"
   ]
  },
  {
   "cell_type": "code",
   "execution_count": 88,
   "metadata": {
    "collapsed": true
   },
   "outputs": [],
   "source": [
    "y = y.apply(binarize)"
   ]
  },
  {
   "cell_type": "code",
   "execution_count": 89,
   "metadata": {
    "collapsed": false
   },
   "outputs": [
    {
     "data": {
      "text/plain": [
       "0             Fully Paid\n",
       "1         Not fully paid\n",
       "2             Fully Paid\n",
       "3             Fully Paid\n",
       "5             Fully Paid\n",
       "7             Fully Paid\n",
       "8         Not fully paid\n",
       "9         Not fully paid\n",
       "10            Fully Paid\n",
       "11            Fully Paid\n",
       "12        Not fully paid\n",
       "13            Fully Paid\n",
       "14        Not fully paid\n",
       "15            Fully Paid\n",
       "16            Fully Paid\n",
       "17            Fully Paid\n",
       "18            Fully Paid\n",
       "19            Fully Paid\n",
       "20            Fully Paid\n",
       "21        Not fully paid\n",
       "22            Fully Paid\n",
       "23            Fully Paid\n",
       "24        Not fully paid\n",
       "25            Fully Paid\n",
       "26        Not fully paid\n",
       "27        Not fully paid\n",
       "28            Fully Paid\n",
       "29            Fully Paid\n",
       "30            Fully Paid\n",
       "31            Fully Paid\n",
       "               ...      \n",
       "887198        Fully Paid\n",
       "887202        Fully Paid\n",
       "887215        Fully Paid\n",
       "887231    Not fully paid\n",
       "887248    Not fully paid\n",
       "887249        Fully Paid\n",
       "887254    Not fully paid\n",
       "887258    Not fully paid\n",
       "887263        Fully Paid\n",
       "887264        Fully Paid\n",
       "887268    Not fully paid\n",
       "887275    Not fully paid\n",
       "887276    Not fully paid\n",
       "887279        Fully Paid\n",
       "887280    Not fully paid\n",
       "887290    Not fully paid\n",
       "887303    Not fully paid\n",
       "887308    Not fully paid\n",
       "887322    Not fully paid\n",
       "887330    Not fully paid\n",
       "887332        Fully Paid\n",
       "887337    Not fully paid\n",
       "887345    Not fully paid\n",
       "887346        Fully Paid\n",
       "887347        Fully Paid\n",
       "887351    Not fully paid\n",
       "887364        Fully Paid\n",
       "887366        Fully Paid\n",
       "887369        Fully Paid\n",
       "887371    Not fully paid\n",
       "Name: loan_status, dtype: object"
      ]
     },
     "execution_count": 89,
     "metadata": {},
     "output_type": "execute_result"
    }
   ],
   "source": [
    "y"
   ]
  },
  {
   "cell_type": "code",
   "execution_count": 90,
   "metadata": {
    "collapsed": false
   },
   "outputs": [
    {
     "data": {
      "text/plain": [
       "RandomForestClassifier(bootstrap=True, class_weight=None, criterion='gini',\n",
       "            max_depth=None, max_features='auto', max_leaf_nodes=None,\n",
       "            min_impurity_split=1e-07, min_samples_leaf=1,\n",
       "            min_samples_split=2, min_weight_fraction_leaf=0.0,\n",
       "            n_estimators=150, n_jobs=8, oob_score=False, random_state=None,\n",
       "            verbose=0, warm_start=False)"
      ]
     },
     "execution_count": 90,
     "metadata": {},
     "output_type": "execute_result"
    }
   ],
   "source": [
    "X_train, X_test, y_train, y_test = train_test_split(X_less_feats, y, test_size=0.3, random_state=42)\n",
    "random_forest = RandomForestClassifier(n_estimators=150, n_jobs=8)\n",
    "random_forest.fit(X_train, y_train)"
   ]
  },
  {
   "cell_type": "code",
   "execution_count": 50,
   "metadata": {
    "collapsed": false
   },
   "outputs": [
    {
     "name": "stdout",
     "output_type": "stream",
     "text": [
      "             precision    recall  f1-score   support\n",
      "\n",
      "Charged Off       0.05      0.46      0.08      1340\n",
      " Fully Paid       0.99      0.83      0.90     74552\n",
      "\n",
      "avg / total       0.97      0.82      0.89     75892\n",
      "\n"
     ]
    }
   ],
   "source": [
    "pred = random_forest.predict(X_test)\n",
    "print(classification_report(pred, y_test))"
   ]
  },
  {
   "cell_type": "code",
   "execution_count": 51,
   "metadata": {
    "collapsed": false
   },
   "outputs": [
    {
     "name": "stdout",
     "output_type": "stream",
     "text": [
      "0.820178674959\n"
     ]
    }
   ],
   "source": [
    "from sklearn.metrics import accuracy_score\n",
    "print(accuracy_score(pred, y_test))"
   ]
  },
  {
   "cell_type": "code",
   "execution_count": 93,
   "metadata": {
    "collapsed": false
   },
   "outputs": [
    {
     "name": "stdout",
     "output_type": "stream",
     "text": [
      "<class 'pandas.core.frame.DataFrame'>\n",
      "Int64Index: 266919 entries, 0 to 887371\n",
      "Data columns (total 42 columns):\n",
      "id                         266919 non-null int64\n",
      "member_id                  266919 non-null int64\n",
      "loan_amnt                  266919 non-null float64\n",
      "funded_amnt                266919 non-null float64\n",
      "funded_amnt_inv            266919 non-null float64\n",
      "term                       266919 non-null int64\n",
      "int_rate                   266919 non-null float64\n",
      "installment                266919 non-null float64\n",
      "grade                      266919 non-null int64\n",
      "sub_grade                  266919 non-null int64\n",
      "emp_length                 266919 non-null int64\n",
      "home_ownership             266919 non-null int64\n",
      "annual_inc                 266919 non-null float64\n",
      "verification_status        266919 non-null int64\n",
      "issue_d                    266919 non-null int64\n",
      "pymnt_plan                 266919 non-null int64\n",
      "url                        266919 non-null int64\n",
      "purpose                    266919 non-null int64\n",
      "zip_code                   266919 non-null int64\n",
      "addr_state                 266919 non-null int64\n",
      "dti                        266919 non-null float64\n",
      "delinq_2yrs                266919 non-null float64\n",
      "earliest_cr_line           266919 non-null int64\n",
      "inq_last_6mths             266919 non-null float64\n",
      "open_acc                   266919 non-null float64\n",
      "pub_rec                    266919 non-null float64\n",
      "revol_bal                  266919 non-null float64\n",
      "total_acc                  266919 non-null float64\n",
      "initial_list_status        266919 non-null int64\n",
      "out_prncp                  266919 non-null float64\n",
      "out_prncp_inv              266919 non-null float64\n",
      "total_pymnt                266919 non-null float64\n",
      "total_pymnt_inv            266919 non-null float64\n",
      "total_rec_prncp            266919 non-null float64\n",
      "total_rec_int              266919 non-null float64\n",
      "total_rec_late_fee         266919 non-null float64\n",
      "recoveries                 266919 non-null float64\n",
      "collection_recovery_fee    266919 non-null float64\n",
      "last_pymnt_amnt            266919 non-null float64\n",
      "policy_code                266919 non-null float64\n",
      "application_type           266919 non-null int64\n",
      "acc_now_delinq             266919 non-null float64\n",
      "dtypes: float64(25), int64(17)\n",
      "memory usage: 87.6 MB\n"
     ]
    }
   ],
   "source": [
    "X.info()"
   ]
  },
  {
   "cell_type": "code",
   "execution_count": null,
   "metadata": {
    "collapsed": true
   },
   "outputs": [],
   "source": []
  }
 ],
 "metadata": {
  "anaconda-cloud": {},
  "kernelspec": {
   "display_name": "Python [conda root]",
   "language": "python",
   "name": "conda-root-py"
  },
  "language_info": {
   "codemirror_mode": {
    "name": "ipython",
    "version": 3
   },
   "file_extension": ".py",
   "mimetype": "text/x-python",
   "name": "python",
   "nbconvert_exporter": "python",
   "pygments_lexer": "ipython3",
   "version": "3.5.2"
  }
 },
 "nbformat": 4,
 "nbformat_minor": 2
}
